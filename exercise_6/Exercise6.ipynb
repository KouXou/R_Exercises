{
 "cells": [
  {
   "cell_type": "markdown",
   "metadata": {},
   "source": [
    "# Άσκηση 6\n",
    "\n",
    "Αρχικά θα χρησιμοποιήσουμε τις βιβλιοθήκες dplyr, foreign, caret, klaR, fpc, reshape και ROCR οπότε τις εισαγάγουμε."
   ]
  },
  {
   "cell_type": "code",
   "execution_count": 15,
   "metadata": {},
   "outputs": [],
   "source": [
    "library('dplyr')\n",
    "library('foreign')\n",
    "library('caret')\n",
    "library('klaR')\n",
    "library('fpc')\n",
    "library('reshape')"
   ]
  },
  {
   "cell_type": "markdown",
   "metadata": {},
   "source": [
    "## Ερώτημα 1\n",
    "\n",
    "Αρχικά διαβάζουμε τα δεδομένα από το αντίστοιχο αρχείο."
   ]
  },
  {
   "cell_type": "code",
   "execution_count": 2,
   "metadata": {},
   "outputs": [
    {
     "name": "stdout",
     "output_type": "stream",
     "text": [
      "[1] \"Το σύνολο των γραμμών του πίνακα που διαβάσαμε είναι :  351\"\n",
      "[1] \"Το σύνολο των στηλών του πίνακα που διαβάσαμε είναι :  35\"\n"
     ]
    }
   ],
   "source": [
    "file_path<-'./ionoshere.txt'\n",
    "data <- read.arff(file=file_path)\n",
    "\n",
    "df<- as.data.frame(data)\n",
    "print(paste('Το σύνολο των γραμμών του πίνακα που διαβάσαμε είναι : ', dim(df)[1]))\n",
    "print(paste('Το σύνολο των στηλών του πίνακα που διαβάσαμε είναι : ', dim(df)[2]))"
   ]
  },
  {
   "cell_type": "markdown",
   "metadata": {},
   "source": [
    "### Υποερώτημα 1.1\n",
    "\n",
    "θα χρησιμοποιήσουμε cross validation για να κατηγοριοποιήσουμε τα δεδομένα. Στο cross validation  το σύνολο δεδομένων διαιρείται σε n υποσύνολα. Η επιλογή των υποσυνόλων είναι τυχαία. Ένα από τα υποσύνολα χρησιμοποιείται ως σύνολο επικύρωσης και τα υπόλοιπα συνενώνονται και δημιουργούν το σύνολο εκπαίδευσης. Το μοντέλο εκπαιδεύεται χρησιμοποιώντας το σύνολο εκπαίδευσης και δοκιμάζεται έναντι του συνόλου επικύρωσης.  Η διαδικασία επαναλαμβάνεται n φορές, κάθε φορά χρησιμοποιώντας ένα διαφορετικό σύνολο ως σύνολο επικύρωσης και τα υπόλοιπα ως σύνολο εκπαίδευσης. Στο τέλος υπολογίζεται η μέση επίδοση του μοντέλου.\n",
    "\n",
    "Από τη βιβλιοθήκη caret χρησιμοποιούμε trainControl() και στη συνέχεια εκπαιδεύουε το μοντέλο χρησιμοποιώντας τη μέθοδο naive bayes για τις διάφορεσ τιμές του k. "
   ]
  },
  {
   "cell_type": "code",
   "execution_count": 3,
   "metadata": {},
   "outputs": [],
   "source": [
    "k_fold <- function(k) {\n",
    "    \n",
    "    # define training control\n",
    "    train_control <- trainControl(method=\"cv\", number=k)\n",
    "    \n",
    "    # Train the model\n",
    "    model <- train(class ~., data = df, method = \"naive_bayes\",\n",
    "               trControl = train_control)\n",
    "    \n",
    "    print(model)\n",
    "    print('----------------------------------------------------')\n",
    "}"
   ]
  },
  {
   "cell_type": "markdown",
   "metadata": {},
   "source": [
    "Αντικαθιστούμε τη τιμή της class με 0 και 1 ανάλογα με την τιμή της."
   ]
  },
  {
   "cell_type": "code",
   "execution_count": 4,
   "metadata": {},
   "outputs": [],
   "source": [
    "resdf<-mutate(df,class= ifelse(class == 'g', 1, 0))"
   ]
  },
  {
   "cell_type": "markdown",
   "metadata": {},
   "source": [
    "Επαναλαμβάνουμε για διάφορες τιμές του k"
   ]
  },
  {
   "cell_type": "code",
   "execution_count": 5,
   "metadata": {},
   "outputs": [
    {
     "name": "stdout",
     "output_type": "stream",
     "text": [
      "Naive Bayes \n",
      "\n",
      "351 samples\n",
      " 34 predictor\n",
      "  2 classes: 'b', 'g' \n",
      "\n",
      "No pre-processing\n",
      "Resampling: Cross-Validated (2 fold) \n",
      "Summary of sample sizes: 175, 176 \n",
      "Resampling results across tuning parameters:\n",
      "\n",
      "  usekernel  Accuracy   Kappa    \n",
      "  FALSE      0.8774188  0.7351309\n",
      "   TRUE      0.9088312  0.8025931\n",
      "\n",
      "Tuning parameter 'laplace' was held constant at a value of 0\n",
      "Tuning\n",
      " parameter 'adjust' was held constant at a value of 1\n",
      "Accuracy was used to select the optimal model using the largest value.\n",
      "The final values used for the model were laplace = 0, usekernel = TRUE\n",
      " and adjust = 1.\n",
      "[1] \"----------------------------------------------------\"\n",
      "Naive Bayes \n",
      "\n",
      "351 samples\n",
      " 34 predictor\n",
      "  2 classes: 'b', 'g' \n",
      "\n",
      "No pre-processing\n",
      "Resampling: Cross-Validated (3 fold) \n",
      "Summary of sample sizes: 234, 234, 234 \n",
      "Resampling results across tuning parameters:\n",
      "\n",
      "  usekernel  Accuracy   Kappa    \n",
      "  FALSE      0.8746439  0.7294549\n",
      "   TRUE      0.9031339  0.7902923\n",
      "\n",
      "Tuning parameter 'laplace' was held constant at a value of 0\n",
      "Tuning\n",
      " parameter 'adjust' was held constant at a value of 1\n",
      "Accuracy was used to select the optimal model using the largest value.\n",
      "The final values used for the model were laplace = 0, usekernel = TRUE\n",
      " and adjust = 1.\n",
      "[1] \"----------------------------------------------------\"\n",
      "Naive Bayes \n",
      "\n",
      "351 samples\n",
      " 34 predictor\n",
      "  2 classes: 'b', 'g' \n",
      "\n",
      "No pre-processing\n",
      "Resampling: Cross-Validated (4 fold) \n",
      "Summary of sample sizes: 264, 263, 263, 263 \n",
      "Resampling results across tuning parameters:\n",
      "\n",
      "  usekernel  Accuracy   Kappa    \n",
      "  FALSE      0.8945925  0.7688935\n",
      "   TRUE      0.9174504  0.8203212\n",
      "\n",
      "Tuning parameter 'laplace' was held constant at a value of 0\n",
      "Tuning\n",
      " parameter 'adjust' was held constant at a value of 1\n",
      "Accuracy was used to select the optimal model using the largest value.\n",
      "The final values used for the model were laplace = 0, usekernel = TRUE\n",
      " and adjust = 1.\n",
      "[1] \"----------------------------------------------------\"\n",
      "Naive Bayes \n",
      "\n",
      "351 samples\n",
      " 34 predictor\n",
      "  2 classes: 'b', 'g' \n",
      "\n",
      "No pre-processing\n",
      "Resampling: Cross-Validated (5 fold) \n",
      "Summary of sample sizes: 280, 281, 281, 281, 281 \n",
      "Resampling results across tuning parameters:\n",
      "\n",
      "  usekernel  Accuracy   Kappa    \n",
      "  FALSE      0.8918310  0.7630139\n",
      "   TRUE      0.9145272  0.8135352\n",
      "\n",
      "Tuning parameter 'laplace' was held constant at a value of 0\n",
      "Tuning\n",
      " parameter 'adjust' was held constant at a value of 1\n",
      "Accuracy was used to select the optimal model using the largest value.\n",
      "The final values used for the model were laplace = 0, usekernel = TRUE\n",
      " and adjust = 1.\n",
      "[1] \"----------------------------------------------------\"\n",
      "Naive Bayes \n",
      "\n",
      "351 samples\n",
      " 34 predictor\n",
      "  2 classes: 'b', 'g' \n",
      "\n",
      "No pre-processing\n",
      "Resampling: Cross-Validated (6 fold) \n",
      "Summary of sample sizes: 293, 292, 293, 292, 293, 292, ... \n",
      "Resampling results across tuning parameters:\n",
      "\n",
      "  usekernel  Accuracy   Kappa    \n",
      "  FALSE      0.9002046  0.7784417\n",
      "   TRUE      0.9145724  0.8140885\n",
      "\n",
      "Tuning parameter 'laplace' was held constant at a value of 0\n",
      "Tuning\n",
      " parameter 'adjust' was held constant at a value of 1\n",
      "Accuracy was used to select the optimal model using the largest value.\n",
      "The final values used for the model were laplace = 0, usekernel = TRUE\n",
      " and adjust = 1.\n",
      "[1] \"----------------------------------------------------\"\n",
      "Naive Bayes \n",
      "\n",
      "351 samples\n",
      " 34 predictor\n",
      "  2 classes: 'b', 'g' \n",
      "\n",
      "No pre-processing\n",
      "Resampling: Cross-Validated (7 fold) \n",
      "Summary of sample sizes: 301, 301, 300, 301, 301, 301, ... \n",
      "Resampling results across tuning parameters:\n",
      "\n",
      "  usekernel  Accuracy   Kappa    \n",
      "  FALSE      0.8975350  0.7740117\n",
      "   TRUE      0.9089076  0.8029910\n",
      "\n",
      "Tuning parameter 'laplace' was held constant at a value of 0\n",
      "Tuning\n",
      " parameter 'adjust' was held constant at a value of 1\n",
      "Accuracy was used to select the optimal model using the largest value.\n",
      "The final values used for the model were laplace = 0, usekernel = TRUE\n",
      " and adjust = 1.\n",
      "[1] \"----------------------------------------------------\"\n",
      "Naive Bayes \n",
      "\n",
      "351 samples\n",
      " 34 predictor\n",
      "  2 classes: 'b', 'g' \n",
      "\n",
      "No pre-processing\n",
      "Resampling: Cross-Validated (8 fold) \n",
      "Summary of sample sizes: 307, 308, 307, 307, 307, 307, ... \n",
      "Resampling results across tuning parameters:\n",
      "\n",
      "  usekernel  Accuracy   Kappa    \n",
      "  FALSE      0.8973793  0.7761513\n",
      "   TRUE      0.9086798  0.8023544\n",
      "\n",
      "Tuning parameter 'laplace' was held constant at a value of 0\n",
      "Tuning\n",
      " parameter 'adjust' was held constant at a value of 1\n",
      "Accuracy was used to select the optimal model using the largest value.\n",
      "The final values used for the model were laplace = 0, usekernel = TRUE\n",
      " and adjust = 1.\n",
      "[1] \"----------------------------------------------------\"\n",
      "Naive Bayes \n",
      "\n",
      "351 samples\n",
      " 34 predictor\n",
      "  2 classes: 'b', 'g' \n",
      "\n",
      "No pre-processing\n",
      "Resampling: Cross-Validated (9 fold) \n",
      "Summary of sample sizes: 312, 312, 312, 312, 312, 312, ... \n",
      "Resampling results across tuning parameters:\n",
      "\n",
      "  usekernel  Accuracy   Kappa    \n",
      "  FALSE      0.8974359  0.7720676\n",
      "   TRUE      0.9031339  0.7892777\n",
      "\n",
      "Tuning parameter 'laplace' was held constant at a value of 0\n",
      "Tuning\n",
      " parameter 'adjust' was held constant at a value of 1\n",
      "Accuracy was used to select the optimal model using the largest value.\n",
      "The final values used for the model were laplace = 0, usekernel = TRUE\n",
      " and adjust = 1.\n",
      "[1] \"----------------------------------------------------\"\n"
     ]
    }
   ],
   "source": [
    "for( k in 2:9){\n",
    "  k_fold (k)\n",
    "}"
   ]
  },
  {
   "cell_type": "markdown",
   "metadata": {},
   "source": [
    "## Ερώτημα 2\n",
    "\n",
    "Αρχικά διαβάζουμε τα δεδομένα από το αντίστοιχο αρχείο."
   ]
  },
  {
   "cell_type": "code",
   "execution_count": 6,
   "metadata": {},
   "outputs": [],
   "source": [
    "file_path_vowel<-'./vowel.txt'\n",
    "vowel <- read.arff(file=file_path_vowel)"
   ]
  },
  {
   "cell_type": "markdown",
   "metadata": {},
   "source": [
    "### Υποερώτημα 2.1\n",
    "\n",
    "Αρχικά μετονομάζουμε τις στήλες \"Train or Test\" και \"Speaker Number\" και αφαιρούμε τις 3 πρώτες στήλες."
   ]
  },
  {
   "cell_type": "code",
   "execution_count": 7,
   "metadata": {
    "scrolled": true
   },
   "outputs": [],
   "source": [
    "names(vowel)[names(vowel) == \"Train or Test\"] <- \"Train_or_Test\"\n",
    "names(vowel)[names(vowel) == \"Speaker Number\"] <- \"Speaker_Number\"\n",
    "vowel_s<-dplyr::select(vowel,-(Train_or_Test:Sex))"
   ]
  },
  {
   "cell_type": "markdown",
   "metadata": {},
   "source": [
    "### Υποερώτημα 2.2\n",
    "\n",
    "Χρησιμοποιώντας τη μέθοδο kmeansruns για k μεταξύ 1 και 12 βρίσκουμε τον καλυτερο αριθμό συστάδων για τα δεδομένα.\n",
    "Αυτή η μέθοδος χρησιμοποιεί 2 κριτήρια, το Calinski-Harabasz Index και το average silhouette width. Από τα δεδομένα αφαιρέθηκε και η στήλη class για το συγκεκριμένο υποερώτημα."
   ]
  },
  {
   "cell_type": "code",
   "execution_count": 8,
   "metadata": {},
   "outputs": [
    {
     "data": {
      "text/plain": [
       "K-means clustering with 2 clusters of sizes 577, 413\n",
       "\n",
       "Cluster means:\n",
       "  Feature 0 Feature 1  Feature 2  Feature 3  Feature 4 Feature 5  Feature 6\n",
       "1 -2.880172  1.096305 -0.5003189 0.84416464 -0.1424662 0.6912184 -0.1415113\n",
       "2 -3.655797  2.979123 -0.5181792 0.05628329 -0.5336513 0.5450581  0.1872421\n",
       "  Feature 7  Feature 8   Feature 9\n",
       "1 0.2743484 -0.3265355  0.01492374\n",
       "2 0.4234576 -0.2700605 -0.19185714\n",
       "\n",
       "Clustering vector:\n",
       "  [1] 1 1 1 1 1 1 2 2 2 1 1 1 1 1 1 1 1 2 2 2 1 1 1 1 1 1 1 2 2 2 1 1 1 1 1 1 1\n",
       " [38] 1 2 2 2 1 1 1 1 1 1 1 1 2 2 2 1 1 1 1 1 1 1 1 2 2 2 1 1 1 1 1 1 1 2 1 2 2\n",
       " [75] 2 2 1 1 1 1 1 2 1 2 2 2 2 1 1 1 1 1 2 1 2 2 2 2 1 1 1 1 1 2 1 2 2 2 2 1 1\n",
       "[112] 1 1 1 2 1 2 2 2 2 1 1 1 1 1 2 1 2 2 2 2 1 1 1 1 1 1 1 1 2 1 2 1 1 1 1 1 1\n",
       "[149] 1 1 2 1 2 1 1 1 1 1 1 1 1 2 1 2 1 1 1 1 1 1 1 1 2 1 2 1 1 1 1 1 1 1 1 2 1\n",
       "[186] 2 1 1 1 1 1 1 1 1 2 1 2 1 1 1 1 1 2 1 1 1 1 1 1 1 1 1 1 2 1 1 1 1 1 1 1 1\n",
       "[223] 1 1 1 1 1 1 1 1 1 1 1 1 1 1 1 1 1 1 1 1 1 1 1 1 1 1 1 1 1 1 1 1 1 1 1 1 1\n",
       "[260] 1 1 1 1 1 1 1 1 1 2 1 2 2 2 2 1 1 1 1 1 2 1 2 2 2 2 1 1 1 1 1 2 1 2 2 2 2\n",
       "[297] 1 1 1 1 1 2 1 2 2 2 2 1 1 1 1 1 2 1 2 2 2 2 1 1 1 1 1 2 1 2 2 2 2 1 1 1 1\n",
       "[334] 1 2 1 2 2 2 2 1 1 1 1 1 2 1 2 2 2 2 1 1 1 1 1 2 1 2 2 2 2 1 1 1 1 1 2 1 2\n",
       "[371] 2 2 2 1 1 1 1 1 2 1 2 2 1 2 1 1 1 1 1 2 1 2 2 1 2 1 1 1 1 1 2 2 2 2 2 2 1\n",
       "[408] 1 1 1 1 2 2 2 2 2 2 1 1 1 1 1 2 2 2 2 2 2 1 1 1 1 1 2 2 2 2 2 2 1 1 1 1 1\n",
       "[445] 2 1 2 2 2 2 1 1 1 1 1 2 1 2 2 2 2 1 2 1 1 1 2 1 2 2 2 2 2 2 1 1 1 2 2 2 2\n",
       "[482] 2 2 2 2 1 1 1 2 2 2 2 2 2 2 2 1 1 1 2 1 2 2 2 2 1 2 1 1 1 2 1 2 2 2 2 1 2\n",
       "[519] 1 1 1 2 1 2 2 2 2 2 1 1 1 1 2 1 1 2 1 1 1 1 1 1 1 2 1 1 2 2 1 1 1 1 1 1 2\n",
       "[556] 1 1 2 1 1 1 1 1 1 1 2 1 1 2 1 1 1 1 1 1 1 2 1 1 2 2 1 1 1 1 1 1 2 1 1 2 2\n",
       "[593] 1 2 1 1 1 1 2 2 2 2 2 2 2 1 1 1 1 2 2 2 2 2 2 2 1 1 1 1 2 2 2 2 2 2 2 1 1\n",
       "[630] 1 1 2 2 2 2 2 2 2 1 1 1 1 2 2 2 2 2 2 2 1 1 1 1 2 2 2 2 2 2 2 1 1 1 1 2 2\n",
       "[667] 2 2 2 2 1 1 1 1 1 2 2 2 2 2 2 1 1 1 1 1 2 2 2 2 2 2 1 1 1 1 1 2 2 2 2 2 2\n",
       "[704] 1 1 1 1 1 2 2 2 2 2 2 1 1 1 1 1 2 2 2 2 2 2 1 1 1 1 1 1 1 2 2 2 1 1 1 1 1\n",
       "[741] 1 1 1 2 2 2 1 1 1 1 1 1 1 1 2 2 2 1 1 1 1 1 1 1 1 2 2 2 1 1 1 1 1 1 1 1 2\n",
       "[778] 2 2 1 1 1 1 1 1 2 1 2 2 2 1 1 1 1 1 1 2 2 2 2 2 2 1 1 1 1 1 2 2 2 2 2 2 2\n",
       "[815] 1 1 1 1 2 2 2 2 2 2 2 1 1 1 1 2 2 2 2 2 2 2 1 1 1 2 2 2 2 2 2 2 2 1 1 1 1\n",
       "[852] 2 2 2 2 2 2 2 1 1 1 1 2 1 2 2 1 1 2 1 1 1 1 2 1 2 2 2 1 2 1 1 1 1 2 1 2 2\n",
       "[889] 2 1 1 1 1 1 1 2 1 2 2 1 1 2 1 1 1 1 2 1 2 2 1 1 2 1 1 1 1 2 1 2 2 1 1 2 1\n",
       "[926] 1 1 1 2 2 2 2 2 1 1 1 1 1 1 2 2 2 2 2 1 1 1 1 1 1 2 2 2 2 2 2 2 1 1 1 1 2\n",
       "[963] 2 2 2 2 2 1 1 1 1 1 2 2 2 2 2 2 2 1 1 1 1 2 2 2 2 2 2 2\n",
       "\n",
       "Within cluster sum of squares by cluster:\n",
       "[1] 2505.221 1462.961\n",
       " (between_SS / total_SS =  23.7 %)\n",
       "\n",
       "Available components:\n",
       "\n",
       " [1] \"cluster\"      \"centers\"      \"totss\"        \"withinss\"     \"tot.withinss\"\n",
       " [6] \"betweenss\"    \"size\"         \"iter\"         \"ifault\"       \"crit\"        \n",
       "[11] \"bestk\"       "
      ]
     },
     "metadata": {},
     "output_type": "display_data"
    }
   ],
   "source": [
    "clustering.ch <- kmeansruns(vowel_s[,1:10], krange=1:12, criterion=\"ch\") # Calinski-Harabasz Index \n",
    "clustering.ch"
   ]
  },
  {
   "cell_type": "code",
   "execution_count": 9,
   "metadata": {},
   "outputs": [
    {
     "data": {
      "text/plain": [
       "K-means clustering with 3 clusters of sizes 222, 381, 387\n",
       "\n",
       "Cluster means:\n",
       "  Feature 0 Feature 1   Feature 2    Feature 3  Feature 4 Feature 5\n",
       "1 -3.646252  1.136505  0.05901802  1.312891892  0.1993919 0.4478784\n",
       "2 -3.647724  3.037609 -0.55267192 -0.005695538 -0.5584173 0.5732992\n",
       "3 -2.512796  1.171351 -0.78869767  0.571152455 -0.3465349 0.7909199\n",
       "     Feature 6  Feature 7  Feature 8  Feature 9\n",
       "1 -0.427243243 -0.2072162 -0.4426802  0.5418964\n",
       "2  0.233913386  0.4524514 -0.2704882 -0.2282257\n",
       "3  0.003633075  0.5343798 -0.2548191 -0.2686641\n",
       "\n",
       "Clustering vector:\n",
       "  [1] 3 3 3 3 3 3 2 2 2 3 3 3 3 3 3 3 3 2 2 2 3 3 3 3 3 3 3 3 2 2 3 3 3 3 3 3 3\n",
       " [38] 3 2 2 2 3 3 3 3 3 3 3 3 2 2 2 3 3 3 3 3 3 3 3 2 2 2 3 3 3 1 3 3 3 2 3 2 2\n",
       " [75] 2 2 3 1 3 3 3 2 3 2 2 2 2 3 1 3 3 3 2 3 2 2 2 2 3 1 3 3 3 2 3 2 2 2 2 3 1\n",
       "[112] 3 3 3 2 3 2 2 2 2 3 1 3 3 3 2 3 2 2 2 2 3 3 3 3 3 3 3 3 2 3 2 3 3 3 3 3 3\n",
       "[149] 3 3 2 1 2 3 3 3 3 3 3 3 1 2 1 2 3 3 3 3 3 3 3 3 2 3 2 3 3 3 3 3 3 3 3 2 3\n",
       "[186] 1 3 3 3 3 3 3 3 3 2 3 2 3 3 3 3 3 2 3 1 1 3 3 3 3 3 3 3 2 3 1 1 3 3 3 3 3\n",
       "[223] 3 3 3 3 1 1 1 1 3 3 3 3 3 3 3 1 1 3 1 3 3 3 3 3 3 3 1 1 3 1 3 3 3 3 3 3 3\n",
       "[260] 1 1 3 1 3 1 1 1 3 2 3 2 2 2 2 3 1 1 1 3 2 3 2 2 2 2 3 1 1 1 3 2 3 2 2 2 2\n",
       "[297] 3 1 1 1 3 2 3 2 2 2 2 3 1 1 1 3 2 3 2 2 2 2 3 1 1 1 3 2 3 2 2 2 2 3 1 1 1\n",
       "[334] 3 2 3 2 2 2 2 3 1 1 1 3 2 3 2 2 2 2 3 1 1 1 3 2 3 2 2 2 2 3 1 1 1 3 2 3 2\n",
       "[371] 2 2 2 3 1 1 1 3 2 3 2 2 3 2 3 1 1 1 3 2 3 2 2 3 2 3 1 3 1 3 2 2 2 2 2 2 3\n",
       "[408] 1 3 1 3 2 2 2 2 2 2 3 1 1 1 3 2 2 2 2 2 2 3 1 1 1 3 2 2 2 2 2 2 3 1 1 1 3\n",
       "[445] 2 3 2 2 2 2 3 1 1 1 3 2 1 2 2 2 2 3 1 1 1 3 2 3 2 2 2 2 2 1 1 1 3 2 2 2 2\n",
       "[482] 2 2 2 1 1 1 1 2 2 2 2 2 2 1 1 1 1 3 2 1 2 2 2 2 1 1 1 1 3 2 1 2 2 2 2 1 1\n",
       "[519] 1 1 3 2 1 2 2 2 2 1 3 3 3 3 2 3 1 2 1 1 3 3 3 3 3 2 3 1 2 1 1 3 3 3 3 3 2\n",
       "[556] 3 1 2 1 1 3 3 3 3 3 2 3 1 2 1 1 3 1 3 3 3 2 3 1 2 1 1 3 3 3 3 3 3 3 1 2 2\n",
       "[593] 1 3 3 3 3 3 2 2 2 2 2 2 2 3 3 3 3 2 3 2 2 2 2 2 3 3 3 3 2 3 2 2 2 2 2 3 3\n",
       "[630] 3 3 2 3 2 2 2 2 2 3 1 3 3 2 3 2 2 2 2 2 3 1 3 3 2 3 2 2 2 2 2 1 3 3 3 2 2\n",
       "[667] 2 2 2 2 3 1 3 3 3 2 2 2 2 2 2 3 1 3 3 3 2 2 2 2 2 2 3 3 3 3 3 2 2 2 2 2 2\n",
       "[704] 3 3 3 3 3 2 2 2 2 2 2 3 3 3 3 3 2 2 2 2 2 2 3 3 3 3 3 3 3 2 2 2 1 3 3 3 3\n",
       "[741] 3 3 3 2 2 2 1 3 3 3 3 3 3 3 2 2 2 1 3 3 3 3 3 3 3 2 2 2 1 3 3 3 3 3 3 3 2\n",
       "[778] 2 2 1 3 3 3 3 3 3 3 2 2 2 1 3 1 1 1 3 2 2 2 2 2 2 3 1 1 1 3 2 2 2 2 2 2 2\n",
       "[815] 1 1 1 3 2 2 2 2 2 2 2 1 1 1 3 2 2 2 2 2 2 2 1 1 1 3 2 2 2 2 2 2 2 1 1 1 3\n",
       "[852] 2 2 2 2 2 2 2 1 1 1 3 2 1 2 2 1 1 1 1 1 1 3 2 1 2 2 1 1 1 1 1 1 3 2 1 2 2\n",
       "[889] 1 1 1 1 1 1 3 2 1 2 2 1 1 1 1 1 1 3 2 1 2 2 1 1 1 1 1 1 3 2 1 2 2 1 1 1 1\n",
       "[926] 1 1 3 2 2 2 2 2 1 1 1 1 1 3 2 2 2 2 2 1 1 1 1 1 3 2 2 2 2 2 1 1 1 1 1 3 2\n",
       "[963] 2 2 2 2 1 1 1 1 1 3 2 2 2 2 2 1 2 1 1 1 3 2 2 2 2 2 2 2\n",
       "\n",
       "Within cluster sum of squares by cluster:\n",
       "[1]  821.7839 1284.5122 1253.4280\n",
       " (between_SS / total_SS =  35.4 %)\n",
       "\n",
       "Available components:\n",
       "\n",
       " [1] \"cluster\"      \"centers\"      \"totss\"        \"withinss\"     \"tot.withinss\"\n",
       " [6] \"betweenss\"    \"size\"         \"iter\"         \"ifault\"       \"crit\"        \n",
       "[11] \"bestk\"       "
      ]
     },
     "metadata": {},
     "output_type": "display_data"
    }
   ],
   "source": [
    "clustering.asw <- kmeansruns(vowel_s[,1:10], krange=1:12, criterion=\"asw\") # average silhouette width\n",
    "clustering.asw"
   ]
  },
  {
   "cell_type": "code",
   "execution_count": 10,
   "metadata": {},
   "outputs": [
    {
     "data": {
      "text/plain": [
       "             Length Class  Mode   \n",
       "cluster      990    -none- numeric\n",
       "centers       20    -none- numeric\n",
       "totss          1    -none- numeric\n",
       "withinss       2    -none- numeric\n",
       "tot.withinss   1    -none- numeric\n",
       "betweenss      1    -none- numeric\n",
       "size           2    -none- numeric\n",
       "iter           1    -none- numeric\n",
       "ifault         1    -none- numeric\n",
       "crit          12    -none- numeric\n",
       "bestk          1    -none- numeric"
      ]
     },
     "metadata": {},
     "output_type": "display_data"
    },
    {
     "data": {
      "image/png": "[encoded data removed]",
      "text/plain": [
       "plot without title"
      ]
     },
     "metadata": {
      "image/png": {
       "height": 420,
       "width": 420
      },
      "text/plain": {
       "height": 420,
       "width": 420
      }
     },
     "output_type": "display_data"
    }
   ],
   "source": [
    "critframe <- data.frame(k=1:12, ch=scale(clustering.ch$crit),asw=scale(clustering.asw$crit))\n",
    "critframe <- melt(critframe, id.vars=c(\"k\"),variable.name=\"measure\",value.name=\"score\")\n",
    "\n",
    "ggplot(critframe, aes(x=k, y=value, color=variable)) +\n",
    "geom_point(aes(shape=variable)) + geom_line(aes(linetype=variable)) +\n",
    "scale_x_continuous(breaks=1:12, labels=1:12)\n",
    "summary(clustering.ch)"
   ]
  },
  {
   "cell_type": "markdown",
   "metadata": {},
   "source": [
    "Παρατηρώτας το παραπάνω γράφημα καταλήγουμε ο καλύτερος αριθμός cluster είναι 2 για το κριτήριο Calinski-Harabasz και 3 για το average silhouette width. Στη συγκεκριμένη περίπτωση επιλέγουμε το k=2 διότι η διαφορα μεταξύ k=2 και k=3 για το asw είναι μικρή."
   ]
  },
  {
   "cell_type": "markdown",
   "metadata": {},
   "source": [
    "### Υποερώτημα 2.3\n",
    "\n",
    "Στο συγκεκριμένο υποερώτημα επαναφέρουμε τη στήλη class και αντικαθιστούμε τις τιμές της σύμφωνα με τις πληροφορίες που έχουμε στο αρχείο των δεδομένων."
   ]
  },
  {
   "cell_type": "code",
   "execution_count": 11,
   "metadata": {},
   "outputs": [],
   "source": [
    "class_to_number <- function(name) {\n",
    "  class_nbr1 <- \n",
    "    case_when(\n",
    "        name == 'hid' ~ 0,\n",
    "        name == 'hId' ~ 1,\n",
    "        name == 'hEd' ~ 2,\n",
    "        name == 'hAd' ~ 3,\n",
    "        name == 'hYd' ~ 4,\n",
    "        name == 'had' ~ 5,\n",
    "        name == 'hOd' ~ 6,\n",
    "        name == 'hod' ~ 7,\n",
    "        name == 'hUd' ~ 8,\n",
    "        name == 'hud' ~ 9,\n",
    "        name == 'hed' ~ 10\n",
    "    )\n",
    "  return(class_nbr1)\n",
    "}\n",
    "\n",
    "\n",
    "vowel_s<-mutate(vowel_s,Class= class_to_number(Class))"
   ]
  },
  {
   "cell_type": "markdown",
   "metadata": {},
   "source": [
    "Επαναλαμβάνουμε την ίδια διαδικασία με το προηγούμενο ερώτημα."
   ]
  },
  {
   "cell_type": "code",
   "execution_count": 12,
   "metadata": {},
   "outputs": [
    {
     "data": {
      "text/plain": [
       "K-means clustering with 2 clusters of sizes 450, 540\n",
       "\n",
       "Cluster means:\n",
       "  Feature 0 Feature 1  Feature 2 Feature 3  Feature 4 Feature 5   Feature 6\n",
       "1 -3.742858  2.582342 -0.3872778 0.3632444 -0.4603978 0.5915578  0.02329556\n",
       "2 -2.754476  1.297948 -0.6081796 0.6423481 -0.1767074 0.6624833 -0.02741481\n",
       "  Feature 7  Feature 8  Feature 9 Class\n",
       "1 0.5206844 -0.2070133 -0.1337222   8.0\n",
       "2 0.1831093 -0.3829444 -0.0193537   2.5\n",
       "\n",
       "Clustering vector:\n",
       "  [1] 2 2 2 2 2 2 1 1 1 1 1 2 2 2 2 2 2 1 1 1 1 1 2 2 2 2 2 2 1 1 1 1 1 2 2 2 2\n",
       " [38] 2 2 1 1 1 1 1 2 2 2 2 2 2 1 1 1 1 1 2 2 2 2 2 2 1 1 1 1 1 2 2 2 2 2 2 1 1\n",
       " [75] 1 1 1 2 2 2 2 2 2 1 1 1 1 1 2 2 2 2 2 2 1 1 1 1 1 2 2 2 2 2 2 1 1 1 1 1 2\n",
       "[112] 2 2 2 2 2 1 1 1 1 1 2 2 2 2 2 2 1 1 1 1 1 2 2 2 2 2 2 1 1 1 1 1 2 2 2 2 2\n",
       "[149] 2 1 1 1 1 1 2 2 2 2 2 2 1 1 1 1 1 2 2 2 2 2 2 1 1 1 1 1 2 2 2 2 2 2 1 1 1\n",
       "[186] 1 1 2 2 2 2 2 2 1 1 1 1 1 2 2 2 2 2 2 1 1 1 1 1 2 2 2 2 2 2 1 1 1 1 1 2 2\n",
       "[223] 2 2 2 2 1 1 1 1 1 2 2 2 2 2 2 1 1 1 1 1 2 2 2 2 2 2 1 1 1 1 1 2 2 2 2 2 2\n",
       "[260] 1 1 1 1 1 2 2 2 2 2 2 1 1 1 1 1 2 2 2 2 2 2 1 1 1 1 1 2 2 2 2 2 2 1 1 1 1\n",
       "[297] 1 2 2 2 2 2 2 1 1 1 1 1 2 2 2 2 2 2 1 1 1 1 1 2 2 2 2 2 2 1 1 1 1 1 2 2 2\n",
       "[334] 2 2 2 1 1 1 1 1 2 2 2 2 2 2 1 1 1 1 1 2 2 2 2 2 2 1 1 1 1 1 2 2 2 2 2 2 1\n",
       "[371] 1 1 1 1 2 2 2 2 2 2 1 1 1 1 1 2 2 2 2 2 2 1 1 1 1 1 2 2 2 2 2 2 1 1 1 1 1\n",
       "[408] 2 2 2 2 2 2 1 1 1 1 1 2 2 2 2 2 2 1 1 1 1 1 2 2 2 2 2 2 1 1 1 1 1 2 2 2 2\n",
       "[445] 2 2 1 1 1 1 1 2 2 2 2 2 2 1 1 1 1 1 2 2 2 2 2 2 1 1 1 1 1 2 2 2 2 2 2 1 1\n",
       "[482] 1 1 1 2 2 2 2 2 2 1 1 1 1 1 2 2 2 2 2 2 1 1 1 1 1 2 2 2 2 2 2 1 1 1 1 1 2\n",
       "[519] 2 2 2 2 2 1 1 1 1 1 2 2 2 2 2 2 1 1 1 1 1 2 2 2 2 2 2 1 1 1 1 1 2 2 2 2 2\n",
       "[556] 2 1 1 1 1 1 2 2 2 2 2 2 1 1 1 1 1 2 2 2 2 2 2 1 1 1 1 1 2 2 2 2 2 2 1 1 1\n",
       "[593] 1 1 2 2 2 2 2 2 1 1 1 1 1 2 2 2 2 2 2 1 1 1 1 1 2 2 2 2 2 2 1 1 1 1 1 2 2\n",
       "[630] 2 2 2 2 1 1 1 1 1 2 2 2 2 2 2 1 1 1 1 1 2 2 2 2 2 2 1 1 1 1 1 2 2 2 2 2 2\n",
       "[667] 1 1 1 1 1 2 2 2 2 2 2 1 1 1 1 1 2 2 2 2 2 2 1 1 1 1 1 2 2 2 2 2 2 1 1 1 1\n",
       "[704] 1 2 2 2 2 2 2 1 1 1 1 1 2 2 2 2 2 2 1 1 1 1 1 2 2 2 2 2 2 1 1 1 1 1 2 2 2\n",
       "[741] 2 2 2 1 1 1 1 1 2 2 2 2 2 2 1 1 1 1 1 2 2 2 2 2 2 1 1 1 1 1 2 2 2 2 2 2 1\n",
       "[778] 1 1 1 1 2 2 2 2 2 2 1 1 1 1 1 2 2 2 2 2 2 1 1 1 1 1 2 2 2 2 2 2 1 1 1 1 1\n",
       "[815] 2 2 2 2 2 2 1 1 1 1 1 2 2 2 2 2 2 1 1 1 1 1 2 2 2 2 2 2 1 1 1 1 1 2 2 2 2\n",
       "[852] 2 2 1 1 1 1 1 2 2 2 2 2 2 1 1 1 1 1 2 2 2 2 2 2 1 1 1 1 1 2 2 2 2 2 2 1 1\n",
       "[889] 1 1 1 2 2 2 2 2 2 1 1 1 1 1 2 2 2 2 2 2 1 1 1 1 1 2 2 2 2 2 2 1 1 1 1 1 2\n",
       "[926] 2 2 2 2 2 1 1 1 1 1 2 2 2 2 2 2 1 1 1 1 1 2 2 2 2 2 2 1 1 1 1 1 2 2 2 2 2\n",
       "[963] 2 1 1 1 1 1 2 2 2 2 2 2 1 1 1 1 1 2 2 2 2 2 2 1 1 1 1 1\n",
       "\n",
       "Within cluster sum of squares by cluster:\n",
       "[1] 2892.214 4046.789\n",
       " (between_SS / total_SS =  54.0 %)\n",
       "\n",
       "Available components:\n",
       "\n",
       " [1] \"cluster\"      \"centers\"      \"totss\"        \"withinss\"     \"tot.withinss\"\n",
       " [6] \"betweenss\"    \"size\"         \"iter\"         \"ifault\"       \"crit\"        \n",
       "[11] \"bestk\"       "
      ]
     },
     "metadata": {},
     "output_type": "display_data"
    }
   ],
   "source": [
    "clustering.ch <- kmeansruns(vowel_s[,1:11], krange=1:12, criterion=\"ch\") # Calinski-Harabasz Index \n",
    "clustering.ch"
   ]
  },
  {
   "cell_type": "code",
   "execution_count": 13,
   "metadata": {},
   "outputs": [
    {
     "data": {
      "text/plain": [
       "K-means clustering with 2 clusters of sizes 450, 540\n",
       "\n",
       "Cluster means:\n",
       "  Feature 0 Feature 1  Feature 2 Feature 3  Feature 4 Feature 5   Feature 6\n",
       "1 -3.742858  2.582342 -0.3872778 0.3632444 -0.4603978 0.5915578  0.02329556\n",
       "2 -2.754476  1.297948 -0.6081796 0.6423481 -0.1767074 0.6624833 -0.02741481\n",
       "  Feature 7  Feature 8  Feature 9 Class\n",
       "1 0.5206844 -0.2070133 -0.1337222   8.0\n",
       "2 0.1831093 -0.3829444 -0.0193537   2.5\n",
       "\n",
       "Clustering vector:\n",
       "  [1] 2 2 2 2 2 2 1 1 1 1 1 2 2 2 2 2 2 1 1 1 1 1 2 2 2 2 2 2 1 1 1 1 1 2 2 2 2\n",
       " [38] 2 2 1 1 1 1 1 2 2 2 2 2 2 1 1 1 1 1 2 2 2 2 2 2 1 1 1 1 1 2 2 2 2 2 2 1 1\n",
       " [75] 1 1 1 2 2 2 2 2 2 1 1 1 1 1 2 2 2 2 2 2 1 1 1 1 1 2 2 2 2 2 2 1 1 1 1 1 2\n",
       "[112] 2 2 2 2 2 1 1 1 1 1 2 2 2 2 2 2 1 1 1 1 1 2 2 2 2 2 2 1 1 1 1 1 2 2 2 2 2\n",
       "[149] 2 1 1 1 1 1 2 2 2 2 2 2 1 1 1 1 1 2 2 2 2 2 2 1 1 1 1 1 2 2 2 2 2 2 1 1 1\n",
       "[186] 1 1 2 2 2 2 2 2 1 1 1 1 1 2 2 2 2 2 2 1 1 1 1 1 2 2 2 2 2 2 1 1 1 1 1 2 2\n",
       "[223] 2 2 2 2 1 1 1 1 1 2 2 2 2 2 2 1 1 1 1 1 2 2 2 2 2 2 1 1 1 1 1 2 2 2 2 2 2\n",
       "[260] 1 1 1 1 1 2 2 2 2 2 2 1 1 1 1 1 2 2 2 2 2 2 1 1 1 1 1 2 2 2 2 2 2 1 1 1 1\n",
       "[297] 1 2 2 2 2 2 2 1 1 1 1 1 2 2 2 2 2 2 1 1 1 1 1 2 2 2 2 2 2 1 1 1 1 1 2 2 2\n",
       "[334] 2 2 2 1 1 1 1 1 2 2 2 2 2 2 1 1 1 1 1 2 2 2 2 2 2 1 1 1 1 1 2 2 2 2 2 2 1\n",
       "[371] 1 1 1 1 2 2 2 2 2 2 1 1 1 1 1 2 2 2 2 2 2 1 1 1 1 1 2 2 2 2 2 2 1 1 1 1 1\n",
       "[408] 2 2 2 2 2 2 1 1 1 1 1 2 2 2 2 2 2 1 1 1 1 1 2 2 2 2 2 2 1 1 1 1 1 2 2 2 2\n",
       "[445] 2 2 1 1 1 1 1 2 2 2 2 2 2 1 1 1 1 1 2 2 2 2 2 2 1 1 1 1 1 2 2 2 2 2 2 1 1\n",
       "[482] 1 1 1 2 2 2 2 2 2 1 1 1 1 1 2 2 2 2 2 2 1 1 1 1 1 2 2 2 2 2 2 1 1 1 1 1 2\n",
       "[519] 2 2 2 2 2 1 1 1 1 1 2 2 2 2 2 2 1 1 1 1 1 2 2 2 2 2 2 1 1 1 1 1 2 2 2 2 2\n",
       "[556] 2 1 1 1 1 1 2 2 2 2 2 2 1 1 1 1 1 2 2 2 2 2 2 1 1 1 1 1 2 2 2 2 2 2 1 1 1\n",
       "[593] 1 1 2 2 2 2 2 2 1 1 1 1 1 2 2 2 2 2 2 1 1 1 1 1 2 2 2 2 2 2 1 1 1 1 1 2 2\n",
       "[630] 2 2 2 2 1 1 1 1 1 2 2 2 2 2 2 1 1 1 1 1 2 2 2 2 2 2 1 1 1 1 1 2 2 2 2 2 2\n",
       "[667] 1 1 1 1 1 2 2 2 2 2 2 1 1 1 1 1 2 2 2 2 2 2 1 1 1 1 1 2 2 2 2 2 2 1 1 1 1\n",
       "[704] 1 2 2 2 2 2 2 1 1 1 1 1 2 2 2 2 2 2 1 1 1 1 1 2 2 2 2 2 2 1 1 1 1 1 2 2 2\n",
       "[741] 2 2 2 1 1 1 1 1 2 2 2 2 2 2 1 1 1 1 1 2 2 2 2 2 2 1 1 1 1 1 2 2 2 2 2 2 1\n",
       "[778] 1 1 1 1 2 2 2 2 2 2 1 1 1 1 1 2 2 2 2 2 2 1 1 1 1 1 2 2 2 2 2 2 1 1 1 1 1\n",
       "[815] 2 2 2 2 2 2 1 1 1 1 1 2 2 2 2 2 2 1 1 1 1 1 2 2 2 2 2 2 1 1 1 1 1 2 2 2 2\n",
       "[852] 2 2 1 1 1 1 1 2 2 2 2 2 2 1 1 1 1 1 2 2 2 2 2 2 1 1 1 1 1 2 2 2 2 2 2 1 1\n",
       "[889] 1 1 1 2 2 2 2 2 2 1 1 1 1 1 2 2 2 2 2 2 1 1 1 1 1 2 2 2 2 2 2 1 1 1 1 1 2\n",
       "[926] 2 2 2 2 2 1 1 1 1 1 2 2 2 2 2 2 1 1 1 1 1 2 2 2 2 2 2 1 1 1 1 1 2 2 2 2 2\n",
       "[963] 2 1 1 1 1 1 2 2 2 2 2 2 1 1 1 1 1 2 2 2 2 2 2 1 1 1 1 1\n",
       "\n",
       "Within cluster sum of squares by cluster:\n",
       "[1] 2892.214 4046.789\n",
       " (between_SS / total_SS =  54.0 %)\n",
       "\n",
       "Available components:\n",
       "\n",
       " [1] \"cluster\"      \"centers\"      \"totss\"        \"withinss\"     \"tot.withinss\"\n",
       " [6] \"betweenss\"    \"size\"         \"iter\"         \"ifault\"       \"crit\"        \n",
       "[11] \"bestk\"       "
      ]
     },
     "metadata": {},
     "output_type": "display_data"
    }
   ],
   "source": [
    "clustering.asw <- kmeansruns(vowel_s[,1:11], krange=1:12, criterion=\"asw\") # average silhouette width\n",
    "clustering.asw"
   ]
  },
  {
   "cell_type": "code",
   "execution_count": 14,
   "metadata": {},
   "outputs": [
    {
     "data": {
      "text/plain": [
       "             Length Class  Mode   \n",
       "cluster      990    -none- numeric\n",
       "centers       22    -none- numeric\n",
       "totss          1    -none- numeric\n",
       "withinss       2    -none- numeric\n",
       "tot.withinss   1    -none- numeric\n",
       "betweenss      1    -none- numeric\n",
       "size           2    -none- numeric\n",
       "iter           1    -none- numeric\n",
       "ifault         1    -none- numeric\n",
       "crit          12    -none- numeric\n",
       "bestk          1    -none- numeric"
      ]
     },
     "metadata": {},
     "output_type": "display_data"
    },
    {
     "data": {
      "image/png": "[encoded data removed]",
      "text/plain": [
       "plot without title"
      ]
     },
     "metadata": {
      "image/png": {
       "height": 420,
       "width": 420
      },
      "text/plain": {
       "height": 420,
       "width": 420
      }
     },
     "output_type": "display_data"
    }
   ],
   "source": [
    "critframe <- data.frame(k=1:12, ch=scale(clustering.ch$crit),asw=scale(clustering.asw$crit))\n",
    "critframe <- melt(critframe, id.vars=c(\"k\"),variable.name=\"measure\",value.name=\"score\")\n",
    "\n",
    "ggplot(critframe, aes(x=k, y=value, color=variable)) +\n",
    "geom_point(aes(shape=variable)) + geom_line(aes(linetype=variable)) +\n",
    "scale_x_continuous(breaks=1:12, labels=1:12)\n",
    "summary(clustering.ch)"
   ]
  },
  {
   "cell_type": "markdown",
   "metadata": {},
   "source": [
    "Παρατηρώτας το παραπάνω γράφημα καταλήγουμε ο καλύτερος αριθμός cluster είναι 2 και για τα δύο κριτήρια που χρησιμοποιήθηκαν."
   ]
  }
 ],
 "metadata": {
  "kernelspec": {
   "display_name": "R",
   "language": "R",
   "name": "ir"
  },
  "language_info": {
   "codemirror_mode": "r",
   "file_extension": ".r",
   "mimetype": "text/x-r-source",
   "name": "R",
   "pygments_lexer": "r",
   "version": "3.6.3"
  }
 },
 "nbformat": 4,
 "nbformat_minor": 4
}
