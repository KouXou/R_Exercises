{
 "cells": [
  {
   "cell_type": "code",
   "execution_count": 1,
   "metadata": {},
   "outputs": [
    {
     "name": "stderr",
     "output_type": "stream",
     "text": [
      "\n",
      "Attaching package: ‘dplyr’\n",
      "\n",
      "\n",
      "The following objects are masked from ‘package:stats’:\n",
      "\n",
      "    filter, lag\n",
      "\n",
      "\n",
      "The following objects are masked from ‘package:base’:\n",
      "\n",
      "    intersect, setdiff, setequal, union\n",
      "\n",
      "\n",
      "Loading required package: lattice\n",
      "\n",
      "Loading required package: ggplot2\n",
      "\n",
      "Loading required package: MASS\n",
      "\n",
      "\n",
      "Attaching package: ‘MASS’\n",
      "\n",
      "\n",
      "The following object is masked from ‘package:dplyr’:\n",
      "\n",
      "    select\n",
      "\n",
      "\n",
      "\n",
      "Attaching package: ‘reshape’\n",
      "\n",
      "\n",
      "The following object is masked from ‘package:dplyr’:\n",
      "\n",
      "    rename\n",
      "\n",
      "\n"
     ]
    }
   ],
   "source": [
    "library('dplyr')\n",
    "library('foreign')\n",
    "library('caret')\n",
    "library('klaR')\n",
    "library('fpc')\n",
    "library('reshape')"
   ]
  },
  {
   "cell_type": "code",
   "execution_count": 2,
   "metadata": {},
   "outputs": [
    {
     "data": {
      "text/html": [
       "<table>\n",
       "<caption>A data.frame: 6 × 35</caption>\n",
       "<thead>\n",
       "\t<tr><th></th><th scope=col>a01</th><th scope=col>a02</th><th scope=col>a03</th><th scope=col>a04</th><th scope=col>a05</th><th scope=col>a06</th><th scope=col>a07</th><th scope=col>a08</th><th scope=col>a09</th><th scope=col>a10</th><th scope=col>⋯</th><th scope=col>a26</th><th scope=col>a27</th><th scope=col>a28</th><th scope=col>a29</th><th scope=col>a30</th><th scope=col>a31</th><th scope=col>a32</th><th scope=col>a33</th><th scope=col>a34</th><th scope=col>class</th></tr>\n",
       "\t<tr><th></th><th scope=col>&lt;dbl&gt;</th><th scope=col>&lt;dbl&gt;</th><th scope=col>&lt;dbl&gt;</th><th scope=col>&lt;dbl&gt;</th><th scope=col>&lt;dbl&gt;</th><th scope=col>&lt;dbl&gt;</th><th scope=col>&lt;dbl&gt;</th><th scope=col>&lt;dbl&gt;</th><th scope=col>&lt;dbl&gt;</th><th scope=col>&lt;dbl&gt;</th><th scope=col>⋯</th><th scope=col>&lt;dbl&gt;</th><th scope=col>&lt;dbl&gt;</th><th scope=col>&lt;dbl&gt;</th><th scope=col>&lt;dbl&gt;</th><th scope=col>&lt;dbl&gt;</th><th scope=col>&lt;dbl&gt;</th><th scope=col>&lt;dbl&gt;</th><th scope=col>&lt;dbl&gt;</th><th scope=col>&lt;dbl&gt;</th><th scope=col>&lt;fct&gt;</th></tr>\n",
       "</thead>\n",
       "<tbody>\n",
       "\t<tr><th scope=row>1</th><td>1</td><td>0</td><td>0.99539</td><td>-0.05889</td><td> 0.85243</td><td> 0.02306</td><td> 0.83398</td><td>-0.37708</td><td>1.00000</td><td> 0.03760</td><td>⋯</td><td>-0.51171</td><td> 0.41078</td><td>-0.46168</td><td> 0.21266</td><td>-0.34090</td><td> 0.42267</td><td>-0.54487</td><td> 0.18641</td><td>-0.45300</td><td>g</td></tr>\n",
       "\t<tr><th scope=row>2</th><td>1</td><td>0</td><td>1.00000</td><td>-0.18829</td><td> 0.93035</td><td>-0.36156</td><td>-0.10868</td><td>-0.93597</td><td>1.00000</td><td>-0.04549</td><td>⋯</td><td>-0.26569</td><td>-0.20468</td><td>-0.18401</td><td>-0.19040</td><td>-0.11593</td><td>-0.16626</td><td>-0.06288</td><td>-0.13738</td><td>-0.02447</td><td>b</td></tr>\n",
       "\t<tr><th scope=row>3</th><td>1</td><td>0</td><td>1.00000</td><td>-0.03365</td><td> 1.00000</td><td> 0.00485</td><td> 1.00000</td><td>-0.12062</td><td>0.88965</td><td> 0.01198</td><td>⋯</td><td>-0.40220</td><td> 0.58984</td><td>-0.22145</td><td> 0.43100</td><td>-0.17365</td><td> 0.60436</td><td>-0.24180</td><td> 0.56045</td><td>-0.38238</td><td>g</td></tr>\n",
       "\t<tr><th scope=row>4</th><td>1</td><td>0</td><td>1.00000</td><td>-0.45161</td><td> 1.00000</td><td> 1.00000</td><td> 0.71216</td><td>-1.00000</td><td>0.00000</td><td> 0.00000</td><td>⋯</td><td> 0.90695</td><td> 0.51613</td><td> 1.00000</td><td> 1.00000</td><td>-0.20099</td><td> 0.25682</td><td> 1.00000</td><td>-0.32382</td><td> 1.00000</td><td>b</td></tr>\n",
       "\t<tr><th scope=row>5</th><td>1</td><td>0</td><td>1.00000</td><td>-0.02401</td><td> 0.94140</td><td> 0.06531</td><td> 0.92106</td><td>-0.23255</td><td>0.77152</td><td>-0.16399</td><td>⋯</td><td>-0.65158</td><td> 0.13290</td><td>-0.53206</td><td> 0.02431</td><td>-0.62197</td><td>-0.05707</td><td>-0.59573</td><td>-0.04608</td><td>-0.65697</td><td>g</td></tr>\n",
       "\t<tr><th scope=row>6</th><td>1</td><td>0</td><td>0.02337</td><td>-0.00592</td><td>-0.09924</td><td>-0.11949</td><td>-0.00763</td><td>-0.11824</td><td>0.14706</td><td> 0.06637</td><td>⋯</td><td>-0.01535</td><td>-0.03240</td><td> 0.09223</td><td>-0.07859</td><td> 0.00732</td><td> 0.00000</td><td> 0.00000</td><td>-0.00039</td><td> 0.12011</td><td>b</td></tr>\n",
       "</tbody>\n",
       "</table>\n"
      ],
      "text/latex": [
       "A data.frame: 6 × 35\n",
       "\\begin{tabular}{r|lllllllllllllllllllll}\n",
       "  & a01 & a02 & a03 & a04 & a05 & a06 & a07 & a08 & a09 & a10 & ⋯ & a26 & a27 & a28 & a29 & a30 & a31 & a32 & a33 & a34 & class\\\\\n",
       "  & <dbl> & <dbl> & <dbl> & <dbl> & <dbl> & <dbl> & <dbl> & <dbl> & <dbl> & <dbl> & ⋯ & <dbl> & <dbl> & <dbl> & <dbl> & <dbl> & <dbl> & <dbl> & <dbl> & <dbl> & <fct>\\\\\n",
       "\\hline\n",
       "\t1 & 1 & 0 & 0.99539 & -0.05889 &  0.85243 &  0.02306 &  0.83398 & -0.37708 & 1.00000 &  0.03760 & ⋯ & -0.51171 &  0.41078 & -0.46168 &  0.21266 & -0.34090 &  0.42267 & -0.54487 &  0.18641 & -0.45300 & g\\\\\n",
       "\t2 & 1 & 0 & 1.00000 & -0.18829 &  0.93035 & -0.36156 & -0.10868 & -0.93597 & 1.00000 & -0.04549 & ⋯ & -0.26569 & -0.20468 & -0.18401 & -0.19040 & -0.11593 & -0.16626 & -0.06288 & -0.13738 & -0.02447 & b\\\\\n",
       "\t3 & 1 & 0 & 1.00000 & -0.03365 &  1.00000 &  0.00485 &  1.00000 & -0.12062 & 0.88965 &  0.01198 & ⋯ & -0.40220 &  0.58984 & -0.22145 &  0.43100 & -0.17365 &  0.60436 & -0.24180 &  0.56045 & -0.38238 & g\\\\\n",
       "\t4 & 1 & 0 & 1.00000 & -0.45161 &  1.00000 &  1.00000 &  0.71216 & -1.00000 & 0.00000 &  0.00000 & ⋯ &  0.90695 &  0.51613 &  1.00000 &  1.00000 & -0.20099 &  0.25682 &  1.00000 & -0.32382 &  1.00000 & b\\\\\n",
       "\t5 & 1 & 0 & 1.00000 & -0.02401 &  0.94140 &  0.06531 &  0.92106 & -0.23255 & 0.77152 & -0.16399 & ⋯ & -0.65158 &  0.13290 & -0.53206 &  0.02431 & -0.62197 & -0.05707 & -0.59573 & -0.04608 & -0.65697 & g\\\\\n",
       "\t6 & 1 & 0 & 0.02337 & -0.00592 & -0.09924 & -0.11949 & -0.00763 & -0.11824 & 0.14706 &  0.06637 & ⋯ & -0.01535 & -0.03240 &  0.09223 & -0.07859 &  0.00732 &  0.00000 &  0.00000 & -0.00039 &  0.12011 & b\\\\\n",
       "\\end{tabular}\n"
      ],
      "text/markdown": [
       "\n",
       "A data.frame: 6 × 35\n",
       "\n",
       "| <!--/--> | a01 &lt;dbl&gt; | a02 &lt;dbl&gt; | a03 &lt;dbl&gt; | a04 &lt;dbl&gt; | a05 &lt;dbl&gt; | a06 &lt;dbl&gt; | a07 &lt;dbl&gt; | a08 &lt;dbl&gt; | a09 &lt;dbl&gt; | a10 &lt;dbl&gt; | ⋯ ⋯ | a26 &lt;dbl&gt; | a27 &lt;dbl&gt; | a28 &lt;dbl&gt; | a29 &lt;dbl&gt; | a30 &lt;dbl&gt; | a31 &lt;dbl&gt; | a32 &lt;dbl&gt; | a33 &lt;dbl&gt; | a34 &lt;dbl&gt; | class &lt;fct&gt; |\n",
       "|---|---|---|---|---|---|---|---|---|---|---|---|---|---|---|---|---|---|---|---|---|---|\n",
       "| 1 | 1 | 0 | 0.99539 | -0.05889 |  0.85243 |  0.02306 |  0.83398 | -0.37708 | 1.00000 |  0.03760 | ⋯ | -0.51171 |  0.41078 | -0.46168 |  0.21266 | -0.34090 |  0.42267 | -0.54487 |  0.18641 | -0.45300 | g |\n",
       "| 2 | 1 | 0 | 1.00000 | -0.18829 |  0.93035 | -0.36156 | -0.10868 | -0.93597 | 1.00000 | -0.04549 | ⋯ | -0.26569 | -0.20468 | -0.18401 | -0.19040 | -0.11593 | -0.16626 | -0.06288 | -0.13738 | -0.02447 | b |\n",
       "| 3 | 1 | 0 | 1.00000 | -0.03365 |  1.00000 |  0.00485 |  1.00000 | -0.12062 | 0.88965 |  0.01198 | ⋯ | -0.40220 |  0.58984 | -0.22145 |  0.43100 | -0.17365 |  0.60436 | -0.24180 |  0.56045 | -0.38238 | g |\n",
       "| 4 | 1 | 0 | 1.00000 | -0.45161 |  1.00000 |  1.00000 |  0.71216 | -1.00000 | 0.00000 |  0.00000 | ⋯ |  0.90695 |  0.51613 |  1.00000 |  1.00000 | -0.20099 |  0.25682 |  1.00000 | -0.32382 |  1.00000 | b |\n",
       "| 5 | 1 | 0 | 1.00000 | -0.02401 |  0.94140 |  0.06531 |  0.92106 | -0.23255 | 0.77152 | -0.16399 | ⋯ | -0.65158 |  0.13290 | -0.53206 |  0.02431 | -0.62197 | -0.05707 | -0.59573 | -0.04608 | -0.65697 | g |\n",
       "| 6 | 1 | 0 | 0.02337 | -0.00592 | -0.09924 | -0.11949 | -0.00763 | -0.11824 | 0.14706 |  0.06637 | ⋯ | -0.01535 | -0.03240 |  0.09223 | -0.07859 |  0.00732 |  0.00000 |  0.00000 | -0.00039 |  0.12011 | b |\n",
       "\n"
      ],
      "text/plain": [
       "  a01 a02 a03     a04      a05      a06      a07      a08      a09     a10     \n",
       "1 1   0   0.99539 -0.05889  0.85243  0.02306  0.83398 -0.37708 1.00000  0.03760\n",
       "2 1   0   1.00000 -0.18829  0.93035 -0.36156 -0.10868 -0.93597 1.00000 -0.04549\n",
       "3 1   0   1.00000 -0.03365  1.00000  0.00485  1.00000 -0.12062 0.88965  0.01198\n",
       "4 1   0   1.00000 -0.45161  1.00000  1.00000  0.71216 -1.00000 0.00000  0.00000\n",
       "5 1   0   1.00000 -0.02401  0.94140  0.06531  0.92106 -0.23255 0.77152 -0.16399\n",
       "6 1   0   0.02337 -0.00592 -0.09924 -0.11949 -0.00763 -0.11824 0.14706  0.06637\n",
       "  ⋯ a26      a27      a28      a29      a30      a31      a32      a33     \n",
       "1 ⋯ -0.51171  0.41078 -0.46168  0.21266 -0.34090  0.42267 -0.54487  0.18641\n",
       "2 ⋯ -0.26569 -0.20468 -0.18401 -0.19040 -0.11593 -0.16626 -0.06288 -0.13738\n",
       "3 ⋯ -0.40220  0.58984 -0.22145  0.43100 -0.17365  0.60436 -0.24180  0.56045\n",
       "4 ⋯  0.90695  0.51613  1.00000  1.00000 -0.20099  0.25682  1.00000 -0.32382\n",
       "5 ⋯ -0.65158  0.13290 -0.53206  0.02431 -0.62197 -0.05707 -0.59573 -0.04608\n",
       "6 ⋯ -0.01535 -0.03240  0.09223 -0.07859  0.00732  0.00000  0.00000 -0.00039\n",
       "  a34      class\n",
       "1 -0.45300 g    \n",
       "2 -0.02447 b    \n",
       "3 -0.38238 g    \n",
       "4  1.00000 b    \n",
       "5 -0.65697 g    \n",
       "6  0.12011 b    "
      ]
     },
     "metadata": {},
     "output_type": "display_data"
    },
    {
     "data": {
      "text/html": [
       "<style>\n",
       ".list-inline {list-style: none; margin:0; padding: 0}\n",
       ".list-inline>li {display: inline-block}\n",
       ".list-inline>li:not(:last-child)::after {content: \"\\00b7\"; padding: 0 .5ex}\n",
       "</style>\n",
       "<ol class=list-inline><li>351</li><li>35</li></ol>\n"
      ],
      "text/latex": [
       "\\begin{enumerate*}\n",
       "\\item 351\n",
       "\\item 35\n",
       "\\end{enumerate*}\n"
      ],
      "text/markdown": [
       "1. 351\n",
       "2. 35\n",
       "\n",
       "\n"
      ],
      "text/plain": [
       "[1] 351  35"
      ]
     },
     "metadata": {},
     "output_type": "display_data"
    }
   ],
   "source": [
    "# 6.1 - IONOSHERE DATA SET\n",
    "file_path<-'/home/kostas/Documents/Msc/Lessons 1st/Data Mining/Ergasia Filip/mf_lab/ionoshere.txt'\n",
    "# file_path<-'./ionoshere.txt'\n",
    "data <- read.arff(file=file_path)\n",
    "\n",
    "df<- as.data.frame(data)\n",
    "head(df)\n",
    "dim(df)"
   ]
  },
  {
   "cell_type": "code",
   "execution_count": 60,
   "metadata": {},
   "outputs": [],
   "source": [
    "k_fold <- function(k) {\n",
    "    \n",
    "    # define training control\n",
    "    train_control <- trainControl(method=\"cv\", number=k)\n",
    "    \n",
    "    # Train the model\n",
    "    model <- train(class ~., data = df, method = \"naive_bayes\",\n",
    "               trControl = train_control)\n",
    "    \n",
    "    print(model)\n",
    "    print('----------------------------------------------------')\n",
    "}"
   ]
  },
  {
   "cell_type": "code",
   "execution_count": 65,
   "metadata": {},
   "outputs": [
    {
     "data": {
      "text/html": [
       "<table>\n",
       "<caption>A data.frame: 6 × 35</caption>\n",
       "<thead>\n",
       "\t<tr><th></th><th scope=col>a01</th><th scope=col>a02</th><th scope=col>a03</th><th scope=col>a04</th><th scope=col>a05</th><th scope=col>a06</th><th scope=col>a07</th><th scope=col>a08</th><th scope=col>a09</th><th scope=col>a10</th><th scope=col>⋯</th><th scope=col>a26</th><th scope=col>a27</th><th scope=col>a28</th><th scope=col>a29</th><th scope=col>a30</th><th scope=col>a31</th><th scope=col>a32</th><th scope=col>a33</th><th scope=col>a34</th><th scope=col>class</th></tr>\n",
       "\t<tr><th></th><th scope=col>&lt;dbl&gt;</th><th scope=col>&lt;dbl&gt;</th><th scope=col>&lt;dbl&gt;</th><th scope=col>&lt;dbl&gt;</th><th scope=col>&lt;dbl&gt;</th><th scope=col>&lt;dbl&gt;</th><th scope=col>&lt;dbl&gt;</th><th scope=col>&lt;dbl&gt;</th><th scope=col>&lt;dbl&gt;</th><th scope=col>&lt;dbl&gt;</th><th scope=col>⋯</th><th scope=col>&lt;dbl&gt;</th><th scope=col>&lt;dbl&gt;</th><th scope=col>&lt;dbl&gt;</th><th scope=col>&lt;dbl&gt;</th><th scope=col>&lt;dbl&gt;</th><th scope=col>&lt;dbl&gt;</th><th scope=col>&lt;dbl&gt;</th><th scope=col>&lt;dbl&gt;</th><th scope=col>&lt;dbl&gt;</th><th scope=col>&lt;dbl&gt;</th></tr>\n",
       "</thead>\n",
       "<tbody>\n",
       "\t<tr><th scope=row>1</th><td>1</td><td>0</td><td>0.99539</td><td>-0.05889</td><td> 0.85243</td><td> 0.02306</td><td> 0.83398</td><td>-0.37708</td><td>1.00000</td><td> 0.03760</td><td>⋯</td><td>-0.51171</td><td> 0.41078</td><td>-0.46168</td><td> 0.21266</td><td>-0.34090</td><td> 0.42267</td><td>-0.54487</td><td> 0.18641</td><td>-0.45300</td><td>1</td></tr>\n",
       "\t<tr><th scope=row>2</th><td>1</td><td>0</td><td>1.00000</td><td>-0.18829</td><td> 0.93035</td><td>-0.36156</td><td>-0.10868</td><td>-0.93597</td><td>1.00000</td><td>-0.04549</td><td>⋯</td><td>-0.26569</td><td>-0.20468</td><td>-0.18401</td><td>-0.19040</td><td>-0.11593</td><td>-0.16626</td><td>-0.06288</td><td>-0.13738</td><td>-0.02447</td><td>0</td></tr>\n",
       "\t<tr><th scope=row>3</th><td>1</td><td>0</td><td>1.00000</td><td>-0.03365</td><td> 1.00000</td><td> 0.00485</td><td> 1.00000</td><td>-0.12062</td><td>0.88965</td><td> 0.01198</td><td>⋯</td><td>-0.40220</td><td> 0.58984</td><td>-0.22145</td><td> 0.43100</td><td>-0.17365</td><td> 0.60436</td><td>-0.24180</td><td> 0.56045</td><td>-0.38238</td><td>1</td></tr>\n",
       "\t<tr><th scope=row>4</th><td>1</td><td>0</td><td>1.00000</td><td>-0.45161</td><td> 1.00000</td><td> 1.00000</td><td> 0.71216</td><td>-1.00000</td><td>0.00000</td><td> 0.00000</td><td>⋯</td><td> 0.90695</td><td> 0.51613</td><td> 1.00000</td><td> 1.00000</td><td>-0.20099</td><td> 0.25682</td><td> 1.00000</td><td>-0.32382</td><td> 1.00000</td><td>0</td></tr>\n",
       "\t<tr><th scope=row>5</th><td>1</td><td>0</td><td>1.00000</td><td>-0.02401</td><td> 0.94140</td><td> 0.06531</td><td> 0.92106</td><td>-0.23255</td><td>0.77152</td><td>-0.16399</td><td>⋯</td><td>-0.65158</td><td> 0.13290</td><td>-0.53206</td><td> 0.02431</td><td>-0.62197</td><td>-0.05707</td><td>-0.59573</td><td>-0.04608</td><td>-0.65697</td><td>1</td></tr>\n",
       "\t<tr><th scope=row>6</th><td>1</td><td>0</td><td>0.02337</td><td>-0.00592</td><td>-0.09924</td><td>-0.11949</td><td>-0.00763</td><td>-0.11824</td><td>0.14706</td><td> 0.06637</td><td>⋯</td><td>-0.01535</td><td>-0.03240</td><td> 0.09223</td><td>-0.07859</td><td> 0.00732</td><td> 0.00000</td><td> 0.00000</td><td>-0.00039</td><td> 0.12011</td><td>0</td></tr>\n",
       "</tbody>\n",
       "</table>\n"
      ],
      "text/latex": [
       "A data.frame: 6 × 35\n",
       "\\begin{tabular}{r|lllllllllllllllllllll}\n",
       "  & a01 & a02 & a03 & a04 & a05 & a06 & a07 & a08 & a09 & a10 & ⋯ & a26 & a27 & a28 & a29 & a30 & a31 & a32 & a33 & a34 & class\\\\\n",
       "  & <dbl> & <dbl> & <dbl> & <dbl> & <dbl> & <dbl> & <dbl> & <dbl> & <dbl> & <dbl> & ⋯ & <dbl> & <dbl> & <dbl> & <dbl> & <dbl> & <dbl> & <dbl> & <dbl> & <dbl> & <dbl>\\\\\n",
       "\\hline\n",
       "\t1 & 1 & 0 & 0.99539 & -0.05889 &  0.85243 &  0.02306 &  0.83398 & -0.37708 & 1.00000 &  0.03760 & ⋯ & -0.51171 &  0.41078 & -0.46168 &  0.21266 & -0.34090 &  0.42267 & -0.54487 &  0.18641 & -0.45300 & 1\\\\\n",
       "\t2 & 1 & 0 & 1.00000 & -0.18829 &  0.93035 & -0.36156 & -0.10868 & -0.93597 & 1.00000 & -0.04549 & ⋯ & -0.26569 & -0.20468 & -0.18401 & -0.19040 & -0.11593 & -0.16626 & -0.06288 & -0.13738 & -0.02447 & 0\\\\\n",
       "\t3 & 1 & 0 & 1.00000 & -0.03365 &  1.00000 &  0.00485 &  1.00000 & -0.12062 & 0.88965 &  0.01198 & ⋯ & -0.40220 &  0.58984 & -0.22145 &  0.43100 & -0.17365 &  0.60436 & -0.24180 &  0.56045 & -0.38238 & 1\\\\\n",
       "\t4 & 1 & 0 & 1.00000 & -0.45161 &  1.00000 &  1.00000 &  0.71216 & -1.00000 & 0.00000 &  0.00000 & ⋯ &  0.90695 &  0.51613 &  1.00000 &  1.00000 & -0.20099 &  0.25682 &  1.00000 & -0.32382 &  1.00000 & 0\\\\\n",
       "\t5 & 1 & 0 & 1.00000 & -0.02401 &  0.94140 &  0.06531 &  0.92106 & -0.23255 & 0.77152 & -0.16399 & ⋯ & -0.65158 &  0.13290 & -0.53206 &  0.02431 & -0.62197 & -0.05707 & -0.59573 & -0.04608 & -0.65697 & 1\\\\\n",
       "\t6 & 1 & 0 & 0.02337 & -0.00592 & -0.09924 & -0.11949 & -0.00763 & -0.11824 & 0.14706 &  0.06637 & ⋯ & -0.01535 & -0.03240 &  0.09223 & -0.07859 &  0.00732 &  0.00000 &  0.00000 & -0.00039 &  0.12011 & 0\\\\\n",
       "\\end{tabular}\n"
      ],
      "text/markdown": [
       "\n",
       "A data.frame: 6 × 35\n",
       "\n",
       "| <!--/--> | a01 &lt;dbl&gt; | a02 &lt;dbl&gt; | a03 &lt;dbl&gt; | a04 &lt;dbl&gt; | a05 &lt;dbl&gt; | a06 &lt;dbl&gt; | a07 &lt;dbl&gt; | a08 &lt;dbl&gt; | a09 &lt;dbl&gt; | a10 &lt;dbl&gt; | ⋯ ⋯ | a26 &lt;dbl&gt; | a27 &lt;dbl&gt; | a28 &lt;dbl&gt; | a29 &lt;dbl&gt; | a30 &lt;dbl&gt; | a31 &lt;dbl&gt; | a32 &lt;dbl&gt; | a33 &lt;dbl&gt; | a34 &lt;dbl&gt; | class &lt;dbl&gt; |\n",
       "|---|---|---|---|---|---|---|---|---|---|---|---|---|---|---|---|---|---|---|---|---|---|\n",
       "| 1 | 1 | 0 | 0.99539 | -0.05889 |  0.85243 |  0.02306 |  0.83398 | -0.37708 | 1.00000 |  0.03760 | ⋯ | -0.51171 |  0.41078 | -0.46168 |  0.21266 | -0.34090 |  0.42267 | -0.54487 |  0.18641 | -0.45300 | 1 |\n",
       "| 2 | 1 | 0 | 1.00000 | -0.18829 |  0.93035 | -0.36156 | -0.10868 | -0.93597 | 1.00000 | -0.04549 | ⋯ | -0.26569 | -0.20468 | -0.18401 | -0.19040 | -0.11593 | -0.16626 | -0.06288 | -0.13738 | -0.02447 | 0 |\n",
       "| 3 | 1 | 0 | 1.00000 | -0.03365 |  1.00000 |  0.00485 |  1.00000 | -0.12062 | 0.88965 |  0.01198 | ⋯ | -0.40220 |  0.58984 | -0.22145 |  0.43100 | -0.17365 |  0.60436 | -0.24180 |  0.56045 | -0.38238 | 1 |\n",
       "| 4 | 1 | 0 | 1.00000 | -0.45161 |  1.00000 |  1.00000 |  0.71216 | -1.00000 | 0.00000 |  0.00000 | ⋯ |  0.90695 |  0.51613 |  1.00000 |  1.00000 | -0.20099 |  0.25682 |  1.00000 | -0.32382 |  1.00000 | 0 |\n",
       "| 5 | 1 | 0 | 1.00000 | -0.02401 |  0.94140 |  0.06531 |  0.92106 | -0.23255 | 0.77152 | -0.16399 | ⋯ | -0.65158 |  0.13290 | -0.53206 |  0.02431 | -0.62197 | -0.05707 | -0.59573 | -0.04608 | -0.65697 | 1 |\n",
       "| 6 | 1 | 0 | 0.02337 | -0.00592 | -0.09924 | -0.11949 | -0.00763 | -0.11824 | 0.14706 |  0.06637 | ⋯ | -0.01535 | -0.03240 |  0.09223 | -0.07859 |  0.00732 |  0.00000 |  0.00000 | -0.00039 |  0.12011 | 0 |\n",
       "\n"
      ],
      "text/plain": [
       "  a01 a02 a03     a04      a05      a06      a07      a08      a09     a10     \n",
       "1 1   0   0.99539 -0.05889  0.85243  0.02306  0.83398 -0.37708 1.00000  0.03760\n",
       "2 1   0   1.00000 -0.18829  0.93035 -0.36156 -0.10868 -0.93597 1.00000 -0.04549\n",
       "3 1   0   1.00000 -0.03365  1.00000  0.00485  1.00000 -0.12062 0.88965  0.01198\n",
       "4 1   0   1.00000 -0.45161  1.00000  1.00000  0.71216 -1.00000 0.00000  0.00000\n",
       "5 1   0   1.00000 -0.02401  0.94140  0.06531  0.92106 -0.23255 0.77152 -0.16399\n",
       "6 1   0   0.02337 -0.00592 -0.09924 -0.11949 -0.00763 -0.11824 0.14706  0.06637\n",
       "  ⋯ a26      a27      a28      a29      a30      a31      a32      a33     \n",
       "1 ⋯ -0.51171  0.41078 -0.46168  0.21266 -0.34090  0.42267 -0.54487  0.18641\n",
       "2 ⋯ -0.26569 -0.20468 -0.18401 -0.19040 -0.11593 -0.16626 -0.06288 -0.13738\n",
       "3 ⋯ -0.40220  0.58984 -0.22145  0.43100 -0.17365  0.60436 -0.24180  0.56045\n",
       "4 ⋯  0.90695  0.51613  1.00000  1.00000 -0.20099  0.25682  1.00000 -0.32382\n",
       "5 ⋯ -0.65158  0.13290 -0.53206  0.02431 -0.62197 -0.05707 -0.59573 -0.04608\n",
       "6 ⋯ -0.01535 -0.03240  0.09223 -0.07859  0.00732  0.00000  0.00000 -0.00039\n",
       "  a34      class\n",
       "1 -0.45300 1    \n",
       "2 -0.02447 0    \n",
       "3 -0.38238 1    \n",
       "4  1.00000 0    \n",
       "5 -0.65697 1    \n",
       "6  0.12011 0    "
      ]
     },
     "metadata": {},
     "output_type": "display_data"
    }
   ],
   "source": [
    "k<-9\n",
    "resdf<-mutate(df,class= ifelse(class == 'g', 1, 0))\n",
    "head(resdf)"
   ]
  },
  {
   "cell_type": "code",
   "execution_count": 66,
   "metadata": {},
   "outputs": [
    {
     "name": "stdout",
     "output_type": "stream",
     "text": [
      "Naive Bayes \n",
      "\n",
      "351 samples\n",
      " 34 predictor\n",
      "  2 classes: 'b', 'g' \n",
      "\n",
      "No pre-processing\n",
      "Resampling: Cross-Validated (2 fold) \n",
      "Summary of sample sizes: 176, 175 \n",
      "Resampling results across tuning parameters:\n",
      "\n",
      "  usekernel  Accuracy   Kappa    \n",
      "  FALSE      0.8887500  0.7585611\n",
      "   TRUE      0.8973214  0.7804416\n",
      "\n",
      "Tuning parameter 'laplace' was held constant at a value of 0\n",
      "Tuning\n",
      " parameter 'adjust' was held constant at a value of 1\n",
      "Accuracy was used to select the optimal model using the largest value.\n",
      "The final values used for the model were laplace = 0, usekernel = TRUE\n",
      " and adjust = 1.\n",
      "[1] \"----------------------------------------------------\"\n",
      "Naive Bayes \n",
      "\n",
      "351 samples\n",
      " 34 predictor\n",
      "  2 classes: 'b', 'g' \n",
      "\n",
      "No pre-processing\n",
      "Resampling: Cross-Validated (3 fold) \n",
      "Summary of sample sizes: 234, 234, 234 \n",
      "Resampling results across tuning parameters:\n",
      "\n",
      "  usekernel  Accuracy   Kappa    \n",
      "  FALSE      0.9002849  0.7794570\n",
      "   TRUE      0.9173789  0.8216084\n",
      "\n",
      "Tuning parameter 'laplace' was held constant at a value of 0\n",
      "Tuning\n",
      " parameter 'adjust' was held constant at a value of 1\n",
      "Accuracy was used to select the optimal model using the largest value.\n",
      "The final values used for the model were laplace = 0, usekernel = TRUE\n",
      " and adjust = 1.\n",
      "[1] \"----------------------------------------------------\"\n",
      "Naive Bayes \n",
      "\n",
      "351 samples\n",
      " 34 predictor\n",
      "  2 classes: 'b', 'g' \n",
      "\n",
      "No pre-processing\n",
      "Resampling: Cross-Validated (4 fold) \n",
      "Summary of sample sizes: 264, 264, 263, 262 \n",
      "Resampling results across tuning parameters:\n",
      "\n",
      "  usekernel  Accuracy   Kappa    \n",
      "  FALSE      0.8775048  0.7313619\n",
      "   TRUE      0.9087912  0.8010049\n",
      "\n",
      "Tuning parameter 'laplace' was held constant at a value of 0\n",
      "Tuning\n",
      " parameter 'adjust' was held constant at a value of 1\n",
      "Accuracy was used to select the optimal model using the largest value.\n",
      "The final values used for the model were laplace = 0, usekernel = TRUE\n",
      " and adjust = 1.\n",
      "[1] \"----------------------------------------------------\"\n",
      "Naive Bayes \n",
      "\n",
      "351 samples\n",
      " 34 predictor\n",
      "  2 classes: 'b', 'g' \n",
      "\n",
      "No pre-processing\n",
      "Resampling: Cross-Validated (5 fold) \n",
      "Summary of sample sizes: 281, 280, 281, 281, 281 \n",
      "Resampling results across tuning parameters:\n",
      "\n",
      "  usekernel  Accuracy   Kappa    \n",
      "  FALSE      0.8945272  0.7659956\n",
      "   TRUE      0.9146479  0.8135653\n",
      "\n",
      "Tuning parameter 'laplace' was held constant at a value of 0\n",
      "Tuning\n",
      " parameter 'adjust' was held constant at a value of 1\n",
      "Accuracy was used to select the optimal model using the largest value.\n",
      "The final values used for the model were laplace = 0, usekernel = TRUE\n",
      " and adjust = 1.\n",
      "[1] \"----------------------------------------------------\"\n",
      "Naive Bayes \n",
      "\n",
      "351 samples\n",
      " 34 predictor\n",
      "  2 classes: 'b', 'g' \n",
      "\n",
      "No pre-processing\n",
      "Resampling: Cross-Validated (6 fold) \n",
      "Summary of sample sizes: 293, 293, 292, 292, 292, 293, ... \n",
      "Resampling results across tuning parameters:\n",
      "\n",
      "  usekernel  Accuracy   Kappa    \n",
      "  FALSE      0.8801383  0.7379198\n",
      "   TRUE      0.9001071  0.7825160\n",
      "\n",
      "Tuning parameter 'laplace' was held constant at a value of 0\n",
      "Tuning\n",
      " parameter 'adjust' was held constant at a value of 1\n",
      "Accuracy was used to select the optimal model using the largest value.\n",
      "The final values used for the model were laplace = 0, usekernel = TRUE\n",
      " and adjust = 1.\n",
      "[1] \"----------------------------------------------------\"\n",
      "Naive Bayes \n",
      "\n",
      "351 samples\n",
      " 34 predictor\n",
      "  2 classes: 'b', 'g' \n",
      "\n",
      "No pre-processing\n",
      "Resampling: Cross-Validated (7 fold) \n",
      "Summary of sample sizes: 300, 301, 301, 301, 301, 301, ... \n",
      "Resampling results across tuning parameters:\n",
      "\n",
      "  usekernel  Accuracy   Kappa    \n",
      "  FALSE      0.9001681  0.7812166\n",
      "   TRUE      0.9143978  0.8144065\n",
      "\n",
      "Tuning parameter 'laplace' was held constant at a value of 0\n",
      "Tuning\n",
      " parameter 'adjust' was held constant at a value of 1\n",
      "Accuracy was used to select the optimal model using the largest value.\n",
      "The final values used for the model were laplace = 0, usekernel = TRUE\n",
      " and adjust = 1.\n",
      "[1] \"----------------------------------------------------\"\n",
      "Naive Bayes \n",
      "\n",
      "351 samples\n",
      " 34 predictor\n",
      "  2 classes: 'b', 'g' \n",
      "\n",
      "No pre-processing\n",
      "Resampling: Cross-Validated (8 fold) \n",
      "Summary of sample sizes: 306, 307, 307, 307, 307, 308, ... \n",
      "Resampling results across tuning parameters:\n",
      "\n",
      "  usekernel  Accuracy   Kappa    \n",
      "  FALSE      0.9033283  0.7860638\n",
      "   TRUE      0.9148241  0.8153153\n",
      "\n",
      "Tuning parameter 'laplace' was held constant at a value of 0\n",
      "Tuning\n",
      " parameter 'adjust' was held constant at a value of 1\n",
      "Accuracy was used to select the optimal model using the largest value.\n",
      "The final values used for the model were laplace = 0, usekernel = TRUE\n",
      " and adjust = 1.\n",
      "[1] \"----------------------------------------------------\"\n",
      "Naive Bayes \n",
      "\n",
      "351 samples\n",
      " 34 predictor\n",
      "  2 classes: 'b', 'g' \n",
      "\n",
      "No pre-processing\n",
      "Resampling: Cross-Validated (9 fold) \n",
      "Summary of sample sizes: 312, 312, 312, 312, 312, 312, ... \n",
      "Resampling results across tuning parameters:\n",
      "\n",
      "  usekernel  Accuracy   Kappa    \n",
      "  FALSE      0.9002849  0.7801649\n",
      "   TRUE      0.9173789  0.8206904\n",
      "\n",
      "Tuning parameter 'laplace' was held constant at a value of 0\n",
      "Tuning\n",
      " parameter 'adjust' was held constant at a value of 1\n",
      "Accuracy was used to select the optimal model using the largest value.\n",
      "The final values used for the model were laplace = 0, usekernel = TRUE\n",
      " and adjust = 1.\n",
      "[1] \"----------------------------------------------------\"\n"
     ]
    }
   ],
   "source": [
    "for( k in 2:9){\n",
    "  k_fold (k)\n",
    "}"
   ]
  },
  {
   "cell_type": "code",
   "execution_count": 67,
   "metadata": {},
   "outputs": [],
   "source": [
    "# define training control\n",
    "# train_control <- trainControl(method=\"cv\", number=10)\n",
    "\n",
    "\n",
    "# # Train the model\n",
    "# model <- train(class ~., data = df, method = \"regLogistic\",\n",
    "#                trControl = train_control)\n",
    "# # Summarize the results\n",
    "# print(model)"
   ]
  },
  {
   "cell_type": "code",
   "execution_count": 68,
   "metadata": {},
   "outputs": [
    {
     "data": {
      "text/html": [
       "<table>\n",
       "<caption>A data.frame: 6 × 14</caption>\n",
       "<thead>\n",
       "\t<tr><th></th><th scope=col>Train or Test</th><th scope=col>Speaker Number</th><th scope=col>Sex</th><th scope=col>Feature 0</th><th scope=col>Feature 1</th><th scope=col>Feature 2</th><th scope=col>Feature 3</th><th scope=col>Feature 4</th><th scope=col>Feature 5</th><th scope=col>Feature 6</th><th scope=col>Feature 7</th><th scope=col>Feature 8</th><th scope=col>Feature 9</th><th scope=col>Class</th></tr>\n",
       "\t<tr><th></th><th scope=col>&lt;fct&gt;</th><th scope=col>&lt;fct&gt;</th><th scope=col>&lt;fct&gt;</th><th scope=col>&lt;dbl&gt;</th><th scope=col>&lt;dbl&gt;</th><th scope=col>&lt;dbl&gt;</th><th scope=col>&lt;dbl&gt;</th><th scope=col>&lt;dbl&gt;</th><th scope=col>&lt;dbl&gt;</th><th scope=col>&lt;dbl&gt;</th><th scope=col>&lt;dbl&gt;</th><th scope=col>&lt;dbl&gt;</th><th scope=col>&lt;dbl&gt;</th><th scope=col>&lt;fct&gt;</th></tr>\n",
       "</thead>\n",
       "<tbody>\n",
       "\t<tr><th scope=row>1</th><td>Train</td><td>Andrew</td><td>Male</td><td>-3.639</td><td>0.418</td><td>-0.670</td><td>1.779</td><td>-0.168</td><td>1.627</td><td>-0.388</td><td> 0.529</td><td>-0.874</td><td>-0.814</td><td>hid</td></tr>\n",
       "\t<tr><th scope=row>2</th><td>Train</td><td>Andrew</td><td>Male</td><td>-3.327</td><td>0.496</td><td>-0.694</td><td>1.365</td><td>-0.265</td><td>1.933</td><td>-0.363</td><td> 0.510</td><td>-0.621</td><td>-0.488</td><td>hId</td></tr>\n",
       "\t<tr><th scope=row>3</th><td>Train</td><td>Andrew</td><td>Male</td><td>-2.120</td><td>0.894</td><td>-1.576</td><td>0.147</td><td>-0.707</td><td>1.559</td><td>-0.579</td><td> 0.676</td><td>-0.809</td><td>-0.049</td><td>hEd</td></tr>\n",
       "\t<tr><th scope=row>4</th><td>Train</td><td>Andrew</td><td>Male</td><td>-2.287</td><td>1.809</td><td>-1.498</td><td>1.012</td><td>-1.053</td><td>1.060</td><td>-0.567</td><td> 0.235</td><td>-0.091</td><td>-0.795</td><td>hAd</td></tr>\n",
       "\t<tr><th scope=row>5</th><td>Train</td><td>Andrew</td><td>Male</td><td>-2.598</td><td>1.938</td><td>-0.846</td><td>1.062</td><td>-1.633</td><td>0.764</td><td> 0.394</td><td>-0.150</td><td> 0.277</td><td>-0.396</td><td>hYd</td></tr>\n",
       "\t<tr><th scope=row>6</th><td>Train</td><td>Andrew</td><td>Male</td><td>-2.852</td><td>1.914</td><td>-0.755</td><td>0.825</td><td>-1.588</td><td>0.855</td><td> 0.217</td><td>-0.246</td><td> 0.238</td><td>-0.365</td><td>had</td></tr>\n",
       "</tbody>\n",
       "</table>\n"
      ],
      "text/latex": [
       "A data.frame: 6 × 14\n",
       "\\begin{tabular}{r|llllllllllllll}\n",
       "  & Train or Test & Speaker Number & Sex & Feature 0 & Feature 1 & Feature 2 & Feature 3 & Feature 4 & Feature 5 & Feature 6 & Feature 7 & Feature 8 & Feature 9 & Class\\\\\n",
       "  & <fct> & <fct> & <fct> & <dbl> & <dbl> & <dbl> & <dbl> & <dbl> & <dbl> & <dbl> & <dbl> & <dbl> & <dbl> & <fct>\\\\\n",
       "\\hline\n",
       "\t1 & Train & Andrew & Male & -3.639 & 0.418 & -0.670 & 1.779 & -0.168 & 1.627 & -0.388 &  0.529 & -0.874 & -0.814 & hid\\\\\n",
       "\t2 & Train & Andrew & Male & -3.327 & 0.496 & -0.694 & 1.365 & -0.265 & 1.933 & -0.363 &  0.510 & -0.621 & -0.488 & hId\\\\\n",
       "\t3 & Train & Andrew & Male & -2.120 & 0.894 & -1.576 & 0.147 & -0.707 & 1.559 & -0.579 &  0.676 & -0.809 & -0.049 & hEd\\\\\n",
       "\t4 & Train & Andrew & Male & -2.287 & 1.809 & -1.498 & 1.012 & -1.053 & 1.060 & -0.567 &  0.235 & -0.091 & -0.795 & hAd\\\\\n",
       "\t5 & Train & Andrew & Male & -2.598 & 1.938 & -0.846 & 1.062 & -1.633 & 0.764 &  0.394 & -0.150 &  0.277 & -0.396 & hYd\\\\\n",
       "\t6 & Train & Andrew & Male & -2.852 & 1.914 & -0.755 & 0.825 & -1.588 & 0.855 &  0.217 & -0.246 &  0.238 & -0.365 & had\\\\\n",
       "\\end{tabular}\n"
      ],
      "text/markdown": [
       "\n",
       "A data.frame: 6 × 14\n",
       "\n",
       "| <!--/--> | Train or Test &lt;fct&gt; | Speaker Number &lt;fct&gt; | Sex &lt;fct&gt; | Feature 0 &lt;dbl&gt; | Feature 1 &lt;dbl&gt; | Feature 2 &lt;dbl&gt; | Feature 3 &lt;dbl&gt; | Feature 4 &lt;dbl&gt; | Feature 5 &lt;dbl&gt; | Feature 6 &lt;dbl&gt; | Feature 7 &lt;dbl&gt; | Feature 8 &lt;dbl&gt; | Feature 9 &lt;dbl&gt; | Class &lt;fct&gt; |\n",
       "|---|---|---|---|---|---|---|---|---|---|---|---|---|---|---|\n",
       "| 1 | Train | Andrew | Male | -3.639 | 0.418 | -0.670 | 1.779 | -0.168 | 1.627 | -0.388 |  0.529 | -0.874 | -0.814 | hid |\n",
       "| 2 | Train | Andrew | Male | -3.327 | 0.496 | -0.694 | 1.365 | -0.265 | 1.933 | -0.363 |  0.510 | -0.621 | -0.488 | hId |\n",
       "| 3 | Train | Andrew | Male | -2.120 | 0.894 | -1.576 | 0.147 | -0.707 | 1.559 | -0.579 |  0.676 | -0.809 | -0.049 | hEd |\n",
       "| 4 | Train | Andrew | Male | -2.287 | 1.809 | -1.498 | 1.012 | -1.053 | 1.060 | -0.567 |  0.235 | -0.091 | -0.795 | hAd |\n",
       "| 5 | Train | Andrew | Male | -2.598 | 1.938 | -0.846 | 1.062 | -1.633 | 0.764 |  0.394 | -0.150 |  0.277 | -0.396 | hYd |\n",
       "| 6 | Train | Andrew | Male | -2.852 | 1.914 | -0.755 | 0.825 | -1.588 | 0.855 |  0.217 | -0.246 |  0.238 | -0.365 | had |\n",
       "\n"
      ],
      "text/plain": [
       "  Train or Test Speaker Number Sex  Feature 0 Feature 1 Feature 2 Feature 3\n",
       "1 Train         Andrew         Male -3.639    0.418     -0.670    1.779    \n",
       "2 Train         Andrew         Male -3.327    0.496     -0.694    1.365    \n",
       "3 Train         Andrew         Male -2.120    0.894     -1.576    0.147    \n",
       "4 Train         Andrew         Male -2.287    1.809     -1.498    1.012    \n",
       "5 Train         Andrew         Male -2.598    1.938     -0.846    1.062    \n",
       "6 Train         Andrew         Male -2.852    1.914     -0.755    0.825    \n",
       "  Feature 4 Feature 5 Feature 6 Feature 7 Feature 8 Feature 9 Class\n",
       "1 -0.168    1.627     -0.388     0.529    -0.874    -0.814    hid  \n",
       "2 -0.265    1.933     -0.363     0.510    -0.621    -0.488    hId  \n",
       "3 -0.707    1.559     -0.579     0.676    -0.809    -0.049    hEd  \n",
       "4 -1.053    1.060     -0.567     0.235    -0.091    -0.795    hAd  \n",
       "5 -1.633    0.764      0.394    -0.150     0.277    -0.396    hYd  \n",
       "6 -1.588    0.855      0.217    -0.246     0.238    -0.365    had  "
      ]
     },
     "metadata": {},
     "output_type": "display_data"
    }
   ],
   "source": [
    "# 6.2 - VOWEL DATA SET\n",
    "file_path_vowel<-'/home/kostas/Documents/Msc/Lessons 1st/Data Mining/Ergasia Filip/mf_lab/vowel.txt'\n",
    "# file_path_vowel<-'./vowel.txt'\n",
    "vowel <- read.arff(file=file_path_vowel)\n",
    "head(vowel)"
   ]
  },
  {
   "cell_type": "code",
   "execution_count": 69,
   "metadata": {
    "scrolled": true
   },
   "outputs": [
    {
     "data": {
      "text/html": [
       "<style>\n",
       ".list-inline {list-style: none; margin:0; padding: 0}\n",
       ".list-inline>li {display: inline-block}\n",
       ".list-inline>li:not(:last-child)::after {content: \"\\00b7\"; padding: 0 .5ex}\n",
       "</style>\n",
       "<ol class=list-inline><li>'Train or Test'</li><li>'Speaker Number'</li><li>'Sex'</li><li>'Feature 0'</li><li>'Feature 1'</li><li>'Feature 2'</li><li>'Feature 3'</li><li>'Feature 4'</li><li>'Feature 5'</li><li>'Feature 6'</li><li>'Feature 7'</li><li>'Feature 8'</li><li>'Feature 9'</li><li>'Class'</li></ol>\n"
      ],
      "text/latex": [
       "\\begin{enumerate*}\n",
       "\\item 'Train or Test'\n",
       "\\item 'Speaker Number'\n",
       "\\item 'Sex'\n",
       "\\item 'Feature 0'\n",
       "\\item 'Feature 1'\n",
       "\\item 'Feature 2'\n",
       "\\item 'Feature 3'\n",
       "\\item 'Feature 4'\n",
       "\\item 'Feature 5'\n",
       "\\item 'Feature 6'\n",
       "\\item 'Feature 7'\n",
       "\\item 'Feature 8'\n",
       "\\item 'Feature 9'\n",
       "\\item 'Class'\n",
       "\\end{enumerate*}\n"
      ],
      "text/markdown": [
       "1. 'Train or Test'\n",
       "2. 'Speaker Number'\n",
       "3. 'Sex'\n",
       "4. 'Feature 0'\n",
       "5. 'Feature 1'\n",
       "6. 'Feature 2'\n",
       "7. 'Feature 3'\n",
       "8. 'Feature 4'\n",
       "9. 'Feature 5'\n",
       "10. 'Feature 6'\n",
       "11. 'Feature 7'\n",
       "12. 'Feature 8'\n",
       "13. 'Feature 9'\n",
       "14. 'Class'\n",
       "\n",
       "\n"
      ],
      "text/plain": [
       " [1] \"Train or Test\"  \"Speaker Number\" \"Sex\"            \"Feature 0\"     \n",
       " [5] \"Feature 1\"      \"Feature 2\"      \"Feature 3\"      \"Feature 4\"     \n",
       " [9] \"Feature 5\"      \"Feature 6\"      \"Feature 7\"      \"Feature 8\"     \n",
       "[13] \"Feature 9\"      \"Class\"         "
      ]
     },
     "metadata": {},
     "output_type": "display_data"
    },
    {
     "data": {
      "text/html": [
       "<table>\n",
       "<caption>A data.frame: 6 × 11</caption>\n",
       "<thead>\n",
       "\t<tr><th></th><th scope=col>Feature 0</th><th scope=col>Feature 1</th><th scope=col>Feature 2</th><th scope=col>Feature 3</th><th scope=col>Feature 4</th><th scope=col>Feature 5</th><th scope=col>Feature 6</th><th scope=col>Feature 7</th><th scope=col>Feature 8</th><th scope=col>Feature 9</th><th scope=col>Class</th></tr>\n",
       "\t<tr><th></th><th scope=col>&lt;dbl&gt;</th><th scope=col>&lt;dbl&gt;</th><th scope=col>&lt;dbl&gt;</th><th scope=col>&lt;dbl&gt;</th><th scope=col>&lt;dbl&gt;</th><th scope=col>&lt;dbl&gt;</th><th scope=col>&lt;dbl&gt;</th><th scope=col>&lt;dbl&gt;</th><th scope=col>&lt;dbl&gt;</th><th scope=col>&lt;dbl&gt;</th><th scope=col>&lt;fct&gt;</th></tr>\n",
       "</thead>\n",
       "<tbody>\n",
       "\t<tr><th scope=row>1</th><td>-3.639</td><td>0.418</td><td>-0.670</td><td>1.779</td><td>-0.168</td><td>1.627</td><td>-0.388</td><td> 0.529</td><td>-0.874</td><td>-0.814</td><td>hid</td></tr>\n",
       "\t<tr><th scope=row>2</th><td>-3.327</td><td>0.496</td><td>-0.694</td><td>1.365</td><td>-0.265</td><td>1.933</td><td>-0.363</td><td> 0.510</td><td>-0.621</td><td>-0.488</td><td>hId</td></tr>\n",
       "\t<tr><th scope=row>3</th><td>-2.120</td><td>0.894</td><td>-1.576</td><td>0.147</td><td>-0.707</td><td>1.559</td><td>-0.579</td><td> 0.676</td><td>-0.809</td><td>-0.049</td><td>hEd</td></tr>\n",
       "\t<tr><th scope=row>4</th><td>-2.287</td><td>1.809</td><td>-1.498</td><td>1.012</td><td>-1.053</td><td>1.060</td><td>-0.567</td><td> 0.235</td><td>-0.091</td><td>-0.795</td><td>hAd</td></tr>\n",
       "\t<tr><th scope=row>5</th><td>-2.598</td><td>1.938</td><td>-0.846</td><td>1.062</td><td>-1.633</td><td>0.764</td><td> 0.394</td><td>-0.150</td><td> 0.277</td><td>-0.396</td><td>hYd</td></tr>\n",
       "\t<tr><th scope=row>6</th><td>-2.852</td><td>1.914</td><td>-0.755</td><td>0.825</td><td>-1.588</td><td>0.855</td><td> 0.217</td><td>-0.246</td><td> 0.238</td><td>-0.365</td><td>had</td></tr>\n",
       "</tbody>\n",
       "</table>\n"
      ],
      "text/latex": [
       "A data.frame: 6 × 11\n",
       "\\begin{tabular}{r|lllllllllll}\n",
       "  & Feature 0 & Feature 1 & Feature 2 & Feature 3 & Feature 4 & Feature 5 & Feature 6 & Feature 7 & Feature 8 & Feature 9 & Class\\\\\n",
       "  & <dbl> & <dbl> & <dbl> & <dbl> & <dbl> & <dbl> & <dbl> & <dbl> & <dbl> & <dbl> & <fct>\\\\\n",
       "\\hline\n",
       "\t1 & -3.639 & 0.418 & -0.670 & 1.779 & -0.168 & 1.627 & -0.388 &  0.529 & -0.874 & -0.814 & hid\\\\\n",
       "\t2 & -3.327 & 0.496 & -0.694 & 1.365 & -0.265 & 1.933 & -0.363 &  0.510 & -0.621 & -0.488 & hId\\\\\n",
       "\t3 & -2.120 & 0.894 & -1.576 & 0.147 & -0.707 & 1.559 & -0.579 &  0.676 & -0.809 & -0.049 & hEd\\\\\n",
       "\t4 & -2.287 & 1.809 & -1.498 & 1.012 & -1.053 & 1.060 & -0.567 &  0.235 & -0.091 & -0.795 & hAd\\\\\n",
       "\t5 & -2.598 & 1.938 & -0.846 & 1.062 & -1.633 & 0.764 &  0.394 & -0.150 &  0.277 & -0.396 & hYd\\\\\n",
       "\t6 & -2.852 & 1.914 & -0.755 & 0.825 & -1.588 & 0.855 &  0.217 & -0.246 &  0.238 & -0.365 & had\\\\\n",
       "\\end{tabular}\n"
      ],
      "text/markdown": [
       "\n",
       "A data.frame: 6 × 11\n",
       "\n",
       "| <!--/--> | Feature 0 &lt;dbl&gt; | Feature 1 &lt;dbl&gt; | Feature 2 &lt;dbl&gt; | Feature 3 &lt;dbl&gt; | Feature 4 &lt;dbl&gt; | Feature 5 &lt;dbl&gt; | Feature 6 &lt;dbl&gt; | Feature 7 &lt;dbl&gt; | Feature 8 &lt;dbl&gt; | Feature 9 &lt;dbl&gt; | Class &lt;fct&gt; |\n",
       "|---|---|---|---|---|---|---|---|---|---|---|---|\n",
       "| 1 | -3.639 | 0.418 | -0.670 | 1.779 | -0.168 | 1.627 | -0.388 |  0.529 | -0.874 | -0.814 | hid |\n",
       "| 2 | -3.327 | 0.496 | -0.694 | 1.365 | -0.265 | 1.933 | -0.363 |  0.510 | -0.621 | -0.488 | hId |\n",
       "| 3 | -2.120 | 0.894 | -1.576 | 0.147 | -0.707 | 1.559 | -0.579 |  0.676 | -0.809 | -0.049 | hEd |\n",
       "| 4 | -2.287 | 1.809 | -1.498 | 1.012 | -1.053 | 1.060 | -0.567 |  0.235 | -0.091 | -0.795 | hAd |\n",
       "| 5 | -2.598 | 1.938 | -0.846 | 1.062 | -1.633 | 0.764 |  0.394 | -0.150 |  0.277 | -0.396 | hYd |\n",
       "| 6 | -2.852 | 1.914 | -0.755 | 0.825 | -1.588 | 0.855 |  0.217 | -0.246 |  0.238 | -0.365 | had |\n",
       "\n"
      ],
      "text/plain": [
       "  Feature 0 Feature 1 Feature 2 Feature 3 Feature 4 Feature 5 Feature 6\n",
       "1 -3.639    0.418     -0.670    1.779     -0.168    1.627     -0.388   \n",
       "2 -3.327    0.496     -0.694    1.365     -0.265    1.933     -0.363   \n",
       "3 -2.120    0.894     -1.576    0.147     -0.707    1.559     -0.579   \n",
       "4 -2.287    1.809     -1.498    1.012     -1.053    1.060     -0.567   \n",
       "5 -2.598    1.938     -0.846    1.062     -1.633    0.764      0.394   \n",
       "6 -2.852    1.914     -0.755    0.825     -1.588    0.855      0.217   \n",
       "  Feature 7 Feature 8 Feature 9 Class\n",
       "1  0.529    -0.874    -0.814    hid  \n",
       "2  0.510    -0.621    -0.488    hId  \n",
       "3  0.676    -0.809    -0.049    hEd  \n",
       "4  0.235    -0.091    -0.795    hAd  \n",
       "5 -0.150     0.277    -0.396    hYd  \n",
       "6 -0.246     0.238    -0.365    had  "
      ]
     },
     "metadata": {},
     "output_type": "display_data"
    }
   ],
   "source": [
    "# 6.2.1\n",
    "colnames(vowel)\n",
    "names(vowel)[names(vowel) == \"Train or Test\"] <- \"Train_or_Test\"\n",
    "names(vowel)[names(vowel) == \"Speaker Number\"] <- \"Speaker_Number\"\n",
    "# vowel\n",
    "vowel_s<-dplyr::select(vowel,-(Train_or_Test:Sex))\n",
    "head(vowel_s) \n",
    "# vowel_s"
   ]
  },
  {
   "cell_type": "code",
   "execution_count": 70,
   "metadata": {},
   "outputs": [],
   "source": [
    "# 6.2.2"
   ]
  },
  {
   "cell_type": "code",
   "execution_count": 71,
   "metadata": {},
   "outputs": [],
   "source": [
    "# kvalues<-c(1,2,3,4,5,6,7,8,9,10,11,12)\n",
    "# kvalues"
   ]
  },
  {
   "cell_type": "code",
   "execution_count": 72,
   "metadata": {},
   "outputs": [],
   "source": [
    "# for (k in 1:12){\n",
    "#     print(kmeans(vowel_s[,1:10], k, nstart=100, iter.max=100))\n",
    "# }"
   ]
  },
  {
   "cell_type": "code",
   "execution_count": 73,
   "metadata": {},
   "outputs": [
    {
     "data": {
      "text/plain": [
       "K-means clustering with 2 clusters of sizes 413, 577\n",
       "\n",
       "Cluster means:\n",
       "  Feature 0 Feature 1  Feature 2  Feature 3  Feature 4 Feature 5  Feature 6\n",
       "1 -3.655797  2.979123 -0.5181792 0.05628329 -0.5336513 0.5450581  0.1872421\n",
       "2 -2.880172  1.096305 -0.5003189 0.84416464 -0.1424662 0.6912184 -0.1415113\n",
       "  Feature 7  Feature 8   Feature 9\n",
       "1 0.4234576 -0.2700605 -0.19185714\n",
       "2 0.2743484 -0.3265355  0.01492374\n",
       "\n",
       "Clustering vector:\n",
       "  [1] 2 2 2 2 2 2 1 1 1 2 2 2 2 2 2 2 2 1 1 1 2 2 2 2 2 2 2 1 1 1 2 2 2 2 2 2 2\n",
       " [38] 2 1 1 1 2 2 2 2 2 2 2 2 1 1 1 2 2 2 2 2 2 2 2 1 1 1 2 2 2 2 2 2 2 1 2 1 1\n",
       " [75] 1 1 2 2 2 2 2 1 2 1 1 1 1 2 2 2 2 2 1 2 1 1 1 1 2 2 2 2 2 1 2 1 1 1 1 2 2\n",
       "[112] 2 2 2 1 2 1 1 1 1 2 2 2 2 2 1 2 1 1 1 1 2 2 2 2 2 2 2 2 1 2 1 2 2 2 2 2 2\n",
       "[149] 2 2 1 2 1 2 2 2 2 2 2 2 2 1 2 1 2 2 2 2 2 2 2 2 1 2 1 2 2 2 2 2 2 2 2 1 2\n",
       "[186] 1 2 2 2 2 2 2 2 2 1 2 1 2 2 2 2 2 1 2 2 2 2 2 2 2 2 2 2 1 2 2 2 2 2 2 2 2\n",
       "[223] 2 2 2 2 2 2 2 2 2 2 2 2 2 2 2 2 2 2 2 2 2 2 2 2 2 2 2 2 2 2 2 2 2 2 2 2 2\n",
       "[260] 2 2 2 2 2 2 2 2 2 1 2 1 1 1 1 2 2 2 2 2 1 2 1 1 1 1 2 2 2 2 2 1 2 1 1 1 1\n",
       "[297] 2 2 2 2 2 1 2 1 1 1 1 2 2 2 2 2 1 2 1 1 1 1 2 2 2 2 2 1 2 1 1 1 1 2 2 2 2\n",
       "[334] 2 1 2 1 1 1 1 2 2 2 2 2 1 2 1 1 1 1 2 2 2 2 2 1 2 1 1 1 1 2 2 2 2 2 1 2 1\n",
       "[371] 1 1 1 2 2 2 2 2 1 2 1 1 2 1 2 2 2 2 2 1 2 1 1 2 1 2 2 2 2 2 1 1 1 1 1 1 2\n",
       "[408] 2 2 2 2 1 1 1 1 1 1 2 2 2 2 2 1 1 1 1 1 1 2 2 2 2 2 1 1 1 1 1 1 2 2 2 2 2\n",
       "[445] 1 2 1 1 1 1 2 2 2 2 2 1 2 1 1 1 1 2 1 2 2 2 1 2 1 1 1 1 1 1 2 2 2 1 1 1 1\n",
       "[482] 1 1 1 1 2 2 2 1 1 1 1 1 1 1 1 2 2 2 1 2 1 1 1 1 2 1 2 2 2 1 2 1 1 1 1 2 1\n",
       "[519] 2 2 2 1 2 1 1 1 1 1 2 2 2 2 1 2 2 1 2 2 2 2 2 2 2 1 2 2 1 1 2 2 2 2 2 2 1\n",
       "[556] 2 2 1 2 2 2 2 2 2 2 1 2 2 1 2 2 2 2 2 2 2 1 2 2 1 1 2 2 2 2 2 2 1 2 2 1 1\n",
       "[593] 2 1 2 2 2 2 1 1 1 1 1 1 1 2 2 2 2 1 1 1 1 1 1 1 2 2 2 2 1 1 1 1 1 1 1 2 2\n",
       "[630] 2 2 1 1 1 1 1 1 1 2 2 2 2 1 1 1 1 1 1 1 2 2 2 2 1 1 1 1 1 1 1 2 2 2 2 1 1\n",
       "[667] 1 1 1 1 2 2 2 2 2 1 1 1 1 1 1 2 2 2 2 2 1 1 1 1 1 1 2 2 2 2 2 1 1 1 1 1 1\n",
       "[704] 2 2 2 2 2 1 1 1 1 1 1 2 2 2 2 2 1 1 1 1 1 1 2 2 2 2 2 2 2 1 1 1 2 2 2 2 2\n",
       "[741] 2 2 2 1 1 1 2 2 2 2 2 2 2 2 1 1 1 2 2 2 2 2 2 2 2 1 1 1 2 2 2 2 2 2 2 2 1\n",
       "[778] 1 1 2 2 2 2 2 2 1 2 1 1 1 2 2 2 2 2 2 1 1 1 1 1 1 2 2 2 2 2 1 1 1 1 1 1 1\n",
       "[815] 2 2 2 2 1 1 1 1 1 1 1 2 2 2 2 1 1 1 1 1 1 1 2 2 2 1 1 1 1 1 1 1 1 2 2 2 2\n",
       "[852] 1 1 1 1 1 1 1 2 2 2 2 1 2 1 1 2 2 1 2 2 2 2 1 2 1 1 1 2 1 2 2 2 2 1 2 1 1\n",
       "[889] 1 2 2 2 2 2 2 1 2 1 1 2 2 1 2 2 2 2 1 2 1 1 2 2 1 2 2 2 2 1 2 1 1 2 2 1 2\n",
       "[926] 2 2 2 1 1 1 1 1 2 2 2 2 2 2 1 1 1 1 1 2 2 2 2 2 2 1 1 1 1 1 1 1 2 2 2 2 1\n",
       "[963] 1 1 1 1 1 2 2 2 2 2 1 1 1 1 1 1 1 2 2 2 2 1 1 1 1 1 1 1\n",
       "\n",
       "Within cluster sum of squares by cluster:\n",
       "[1] 1462.961 2505.221\n",
       " (between_SS / total_SS =  23.7 %)\n",
       "\n",
       "Available components:\n",
       "\n",
       " [1] \"cluster\"      \"centers\"      \"totss\"        \"withinss\"     \"tot.withinss\"\n",
       " [6] \"betweenss\"    \"size\"         \"iter\"         \"ifault\"       \"crit\"        \n",
       "[11] \"bestk\"       "
      ]
     },
     "metadata": {},
     "output_type": "display_data"
    }
   ],
   "source": [
    "#  kmeansruns to pick the best k\n",
    "clustering.ch <- kmeansruns(vowel_s[,1:10], krange=1:12, criterion=\"ch\") # Calinski-Harabasz Index \n",
    "clustering.ch"
   ]
  },
  {
   "cell_type": "code",
   "execution_count": 74,
   "metadata": {},
   "outputs": [
    {
     "data": {
      "text/plain": [
       "K-means clustering with 3 clusters of sizes 387, 381, 222\n",
       "\n",
       "Cluster means:\n",
       "  Feature 0 Feature 1   Feature 2    Feature 3  Feature 4 Feature 5\n",
       "1 -2.512796  1.171351 -0.78869767  0.571152455 -0.3465349 0.7909199\n",
       "2 -3.647724  3.037609 -0.55267192 -0.005695538 -0.5584173 0.5732992\n",
       "3 -3.646252  1.136505  0.05901802  1.312891892  0.1993919 0.4478784\n",
       "     Feature 6  Feature 7  Feature 8  Feature 9\n",
       "1  0.003633075  0.5343798 -0.2548191 -0.2686641\n",
       "2  0.233913386  0.4524514 -0.2704882 -0.2282257\n",
       "3 -0.427243243 -0.2072162 -0.4426802  0.5418964\n",
       "\n",
       "Clustering vector:\n",
       "  [1] 1 1 1 1 1 1 2 2 2 1 1 1 1 1 1 1 1 2 2 2 1 1 1 1 1 1 1 1 2 2 1 1 1 1 1 1 1\n",
       " [38] 1 2 2 2 1 1 1 1 1 1 1 1 2 2 2 1 1 1 1 1 1 1 1 2 2 2 1 1 1 3 1 1 1 2 1 2 2\n",
       " [75] 2 2 1 3 1 1 1 2 1 2 2 2 2 1 3 1 1 1 2 1 2 2 2 2 1 3 1 1 1 2 1 2 2 2 2 1 3\n",
       "[112] 1 1 1 2 1 2 2 2 2 1 3 1 1 1 2 1 2 2 2 2 1 1 1 1 1 1 1 1 2 1 2 1 1 1 1 1 1\n",
       "[149] 1 1 2 3 2 1 1 1 1 1 1 1 3 2 3 2 1 1 1 1 1 1 1 1 2 1 2 1 1 1 1 1 1 1 1 2 1\n",
       "[186] 3 1 1 1 1 1 1 1 1 2 1 2 1 1 1 1 1 2 1 3 3 1 1 1 1 1 1 1 2 1 3 3 1 1 1 1 1\n",
       "[223] 1 1 1 1 3 3 3 3 1 1 1 1 1 1 1 3 3 1 3 1 1 1 1 1 1 1 3 3 1 3 1 1 1 1 1 1 1\n",
       "[260] 3 3 1 3 1 3 3 3 1 2 1 2 2 2 2 1 3 3 3 1 2 1 2 2 2 2 1 3 3 3 1 2 1 2 2 2 2\n",
       "[297] 1 3 3 3 1 2 1 2 2 2 2 1 3 3 3 1 2 1 2 2 2 2 1 3 3 3 1 2 1 2 2 2 2 1 3 3 3\n",
       "[334] 1 2 1 2 2 2 2 1 3 3 3 1 2 1 2 2 2 2 1 3 3 3 1 2 1 2 2 2 2 1 3 3 3 1 2 1 2\n",
       "[371] 2 2 2 1 3 3 3 1 2 1 2 2 1 2 1 3 3 3 1 2 1 2 2 1 2 1 3 1 3 1 2 2 2 2 2 2 1\n",
       "[408] 3 1 3 1 2 2 2 2 2 2 1 3 3 3 1 2 2 2 2 2 2 1 3 3 3 1 2 2 2 2 2 2 1 3 3 3 1\n",
       "[445] 2 1 2 2 2 2 1 3 3 3 1 2 3 2 2 2 2 1 3 3 3 1 2 1 2 2 2 2 2 3 3 3 1 2 2 2 2\n",
       "[482] 2 2 2 3 3 3 3 2 2 2 2 2 2 3 3 3 3 1 2 3 2 2 2 2 3 3 3 3 1 2 3 2 2 2 2 3 3\n",
       "[519] 3 3 1 2 3 2 2 2 2 3 1 1 1 1 2 1 3 2 3 3 1 1 1 1 1 2 1 3 2 3 3 1 1 1 1 1 2\n",
       "[556] 1 3 2 3 3 1 1 1 1 1 2 1 3 2 3 3 1 3 1 1 1 2 1 3 2 3 3 1 1 1 1 1 1 1 3 2 2\n",
       "[593] 3 1 1 1 1 1 2 2 2 2 2 2 2 1 1 1 1 2 1 2 2 2 2 2 1 1 1 1 2 1 2 2 2 2 2 1 1\n",
       "[630] 1 1 2 1 2 2 2 2 2 1 3 1 1 2 1 2 2 2 2 2 1 3 1 1 2 1 2 2 2 2 2 3 1 1 1 2 2\n",
       "[667] 2 2 2 2 1 3 1 1 1 2 2 2 2 2 2 1 3 1 1 1 2 2 2 2 2 2 1 1 1 1 1 2 2 2 2 2 2\n",
       "[704] 1 1 1 1 1 2 2 2 2 2 2 1 1 1 1 1 2 2 2 2 2 2 1 1 1 1 1 1 1 2 2 2 3 1 1 1 1\n",
       "[741] 1 1 1 2 2 2 3 1 1 1 1 1 1 1 2 2 2 3 1 1 1 1 1 1 1 2 2 2 3 1 1 1 1 1 1 1 2\n",
       "[778] 2 2 3 1 1 1 1 1 1 1 2 2 2 3 1 3 3 3 1 2 2 2 2 2 2 1 3 3 3 1 2 2 2 2 2 2 2\n",
       "[815] 3 3 3 1 2 2 2 2 2 2 2 3 3 3 1 2 2 2 2 2 2 2 3 3 3 1 2 2 2 2 2 2 2 3 3 3 1\n",
       "[852] 2 2 2 2 2 2 2 3 3 3 1 2 3 2 2 3 3 3 3 3 3 1 2 3 2 2 3 3 3 3 3 3 1 2 3 2 2\n",
       "[889] 3 3 3 3 3 3 1 2 3 2 2 3 3 3 3 3 3 1 2 3 2 2 3 3 3 3 3 3 1 2 3 2 2 3 3 3 3\n",
       "[926] 3 3 1 2 2 2 2 2 3 3 3 3 3 1 2 2 2 2 2 3 3 3 3 3 1 2 2 2 2 2 3 3 3 3 3 1 2\n",
       "[963] 2 2 2 2 3 3 3 3 3 1 2 2 2 2 2 3 2 3 3 3 1 2 2 2 2 2 2 2\n",
       "\n",
       "Within cluster sum of squares by cluster:\n",
       "[1] 1253.4280 1284.5122  821.7839\n",
       " (between_SS / total_SS =  35.4 %)\n",
       "\n",
       "Available components:\n",
       "\n",
       " [1] \"cluster\"      \"centers\"      \"totss\"        \"withinss\"     \"tot.withinss\"\n",
       " [6] \"betweenss\"    \"size\"         \"iter\"         \"ifault\"       \"crit\"        \n",
       "[11] \"bestk\"       "
      ]
     },
     "metadata": {},
     "output_type": "display_data"
    }
   ],
   "source": [
    "clustering.asw <- kmeansruns(vowel_s[,1:10], krange=1:12, criterion=\"asw\") # average silhouette width\n",
    "clustering.asw"
   ]
  },
  {
   "cell_type": "code",
   "execution_count": 76,
   "metadata": {},
   "outputs": [
    {
     "data": {
      "text/plain": [
       "             Length Class  Mode   \n",
       "cluster      990    -none- numeric\n",
       "centers       20    -none- numeric\n",
       "totss          1    -none- numeric\n",
       "withinss       2    -none- numeric\n",
       "tot.withinss   1    -none- numeric\n",
       "betweenss      1    -none- numeric\n",
       "size           2    -none- numeric\n",
       "iter           1    -none- numeric\n",
       "ifault         1    -none- numeric\n",
       "crit          12    -none- numeric\n",
       "bestk          1    -none- numeric"
      ]
     },
     "metadata": {},
     "output_type": "display_data"
    },
    {
     "data": {
      "image/png": "[encoded data removed]",
      "text/plain": [
       "plot without title"
      ]
     },
     "metadata": {
      "image/png": {
       "height": 420,
       "width": 420
      },
      "text/plain": {
       "height": 420,
       "width": 420
      }
     },
     "output_type": "display_data"
    }
   ],
   "source": [
    "critframe <- data.frame(k=1:12, ch=scale(clustering.ch$crit),asw=scale(clustering.asw$crit))\n",
    "critframe <- melt(critframe, id.vars=c(\"k\"),variable.name=\"measure\",value.name=\"score\")\n",
    "# critframe\n",
    "ggplot(critframe, aes(x=k, y=value, color=variable)) +\n",
    "geom_point(aes(shape=variable)) + geom_line(aes(linetype=variable)) +\n",
    "scale_x_continuous(breaks=1:12, labels=1:12)\n",
    "summary(clustering.ch)"
   ]
  },
  {
   "cell_type": "code",
   "execution_count": 77,
   "metadata": {},
   "outputs": [
    {
     "data": {
      "text/html": [
       "<table>\n",
       "<caption>A data.frame: 6 × 11</caption>\n",
       "<thead>\n",
       "\t<tr><th></th><th scope=col>Feature 0</th><th scope=col>Feature 1</th><th scope=col>Feature 2</th><th scope=col>Feature 3</th><th scope=col>Feature 4</th><th scope=col>Feature 5</th><th scope=col>Feature 6</th><th scope=col>Feature 7</th><th scope=col>Feature 8</th><th scope=col>Feature 9</th><th scope=col>Class</th></tr>\n",
       "\t<tr><th></th><th scope=col>&lt;dbl&gt;</th><th scope=col>&lt;dbl&gt;</th><th scope=col>&lt;dbl&gt;</th><th scope=col>&lt;dbl&gt;</th><th scope=col>&lt;dbl&gt;</th><th scope=col>&lt;dbl&gt;</th><th scope=col>&lt;dbl&gt;</th><th scope=col>&lt;dbl&gt;</th><th scope=col>&lt;dbl&gt;</th><th scope=col>&lt;dbl&gt;</th><th scope=col>&lt;fct&gt;</th></tr>\n",
       "</thead>\n",
       "<tbody>\n",
       "\t<tr><th scope=row>1</th><td>-3.639</td><td>0.418</td><td>-0.670</td><td>1.779</td><td>-0.168</td><td>1.627</td><td>-0.388</td><td> 0.529</td><td>-0.874</td><td>-0.814</td><td>hid</td></tr>\n",
       "\t<tr><th scope=row>2</th><td>-3.327</td><td>0.496</td><td>-0.694</td><td>1.365</td><td>-0.265</td><td>1.933</td><td>-0.363</td><td> 0.510</td><td>-0.621</td><td>-0.488</td><td>hId</td></tr>\n",
       "\t<tr><th scope=row>3</th><td>-2.120</td><td>0.894</td><td>-1.576</td><td>0.147</td><td>-0.707</td><td>1.559</td><td>-0.579</td><td> 0.676</td><td>-0.809</td><td>-0.049</td><td>hEd</td></tr>\n",
       "\t<tr><th scope=row>4</th><td>-2.287</td><td>1.809</td><td>-1.498</td><td>1.012</td><td>-1.053</td><td>1.060</td><td>-0.567</td><td> 0.235</td><td>-0.091</td><td>-0.795</td><td>hAd</td></tr>\n",
       "\t<tr><th scope=row>5</th><td>-2.598</td><td>1.938</td><td>-0.846</td><td>1.062</td><td>-1.633</td><td>0.764</td><td> 0.394</td><td>-0.150</td><td> 0.277</td><td>-0.396</td><td>hYd</td></tr>\n",
       "\t<tr><th scope=row>6</th><td>-2.852</td><td>1.914</td><td>-0.755</td><td>0.825</td><td>-1.588</td><td>0.855</td><td> 0.217</td><td>-0.246</td><td> 0.238</td><td>-0.365</td><td>had</td></tr>\n",
       "</tbody>\n",
       "</table>\n"
      ],
      "text/latex": [
       "A data.frame: 6 × 11\n",
       "\\begin{tabular}{r|lllllllllll}\n",
       "  & Feature 0 & Feature 1 & Feature 2 & Feature 3 & Feature 4 & Feature 5 & Feature 6 & Feature 7 & Feature 8 & Feature 9 & Class\\\\\n",
       "  & <dbl> & <dbl> & <dbl> & <dbl> & <dbl> & <dbl> & <dbl> & <dbl> & <dbl> & <dbl> & <fct>\\\\\n",
       "\\hline\n",
       "\t1 & -3.639 & 0.418 & -0.670 & 1.779 & -0.168 & 1.627 & -0.388 &  0.529 & -0.874 & -0.814 & hid\\\\\n",
       "\t2 & -3.327 & 0.496 & -0.694 & 1.365 & -0.265 & 1.933 & -0.363 &  0.510 & -0.621 & -0.488 & hId\\\\\n",
       "\t3 & -2.120 & 0.894 & -1.576 & 0.147 & -0.707 & 1.559 & -0.579 &  0.676 & -0.809 & -0.049 & hEd\\\\\n",
       "\t4 & -2.287 & 1.809 & -1.498 & 1.012 & -1.053 & 1.060 & -0.567 &  0.235 & -0.091 & -0.795 & hAd\\\\\n",
       "\t5 & -2.598 & 1.938 & -0.846 & 1.062 & -1.633 & 0.764 &  0.394 & -0.150 &  0.277 & -0.396 & hYd\\\\\n",
       "\t6 & -2.852 & 1.914 & -0.755 & 0.825 & -1.588 & 0.855 &  0.217 & -0.246 &  0.238 & -0.365 & had\\\\\n",
       "\\end{tabular}\n"
      ],
      "text/markdown": [
       "\n",
       "A data.frame: 6 × 11\n",
       "\n",
       "| <!--/--> | Feature 0 &lt;dbl&gt; | Feature 1 &lt;dbl&gt; | Feature 2 &lt;dbl&gt; | Feature 3 &lt;dbl&gt; | Feature 4 &lt;dbl&gt; | Feature 5 &lt;dbl&gt; | Feature 6 &lt;dbl&gt; | Feature 7 &lt;dbl&gt; | Feature 8 &lt;dbl&gt; | Feature 9 &lt;dbl&gt; | Class &lt;fct&gt; |\n",
       "|---|---|---|---|---|---|---|---|---|---|---|---|\n",
       "| 1 | -3.639 | 0.418 | -0.670 | 1.779 | -0.168 | 1.627 | -0.388 |  0.529 | -0.874 | -0.814 | hid |\n",
       "| 2 | -3.327 | 0.496 | -0.694 | 1.365 | -0.265 | 1.933 | -0.363 |  0.510 | -0.621 | -0.488 | hId |\n",
       "| 3 | -2.120 | 0.894 | -1.576 | 0.147 | -0.707 | 1.559 | -0.579 |  0.676 | -0.809 | -0.049 | hEd |\n",
       "| 4 | -2.287 | 1.809 | -1.498 | 1.012 | -1.053 | 1.060 | -0.567 |  0.235 | -0.091 | -0.795 | hAd |\n",
       "| 5 | -2.598 | 1.938 | -0.846 | 1.062 | -1.633 | 0.764 |  0.394 | -0.150 |  0.277 | -0.396 | hYd |\n",
       "| 6 | -2.852 | 1.914 | -0.755 | 0.825 | -1.588 | 0.855 |  0.217 | -0.246 |  0.238 | -0.365 | had |\n",
       "\n"
      ],
      "text/plain": [
       "  Feature 0 Feature 1 Feature 2 Feature 3 Feature 4 Feature 5 Feature 6\n",
       "1 -3.639    0.418     -0.670    1.779     -0.168    1.627     -0.388   \n",
       "2 -3.327    0.496     -0.694    1.365     -0.265    1.933     -0.363   \n",
       "3 -2.120    0.894     -1.576    0.147     -0.707    1.559     -0.579   \n",
       "4 -2.287    1.809     -1.498    1.012     -1.053    1.060     -0.567   \n",
       "5 -2.598    1.938     -0.846    1.062     -1.633    0.764      0.394   \n",
       "6 -2.852    1.914     -0.755    0.825     -1.588    0.855      0.217   \n",
       "  Feature 7 Feature 8 Feature 9 Class\n",
       "1  0.529    -0.874    -0.814    hid  \n",
       "2  0.510    -0.621    -0.488    hId  \n",
       "3  0.676    -0.809    -0.049    hEd  \n",
       "4  0.235    -0.091    -0.795    hAd  \n",
       "5 -0.150     0.277    -0.396    hYd  \n",
       "6 -0.246     0.238    -0.365    had  "
      ]
     },
     "metadata": {},
     "output_type": "display_data"
    }
   ],
   "source": [
    "head(vowel_s)"
   ]
  },
  {
   "cell_type": "code",
   "execution_count": 78,
   "metadata": {},
   "outputs": [
    {
     "data": {
      "text/html": [
       "<table>\n",
       "<caption>A data.frame: 6 × 11</caption>\n",
       "<thead>\n",
       "\t<tr><th></th><th scope=col>Feature 0</th><th scope=col>Feature 1</th><th scope=col>Feature 2</th><th scope=col>Feature 3</th><th scope=col>Feature 4</th><th scope=col>Feature 5</th><th scope=col>Feature 6</th><th scope=col>Feature 7</th><th scope=col>Feature 8</th><th scope=col>Feature 9</th><th scope=col>Class</th></tr>\n",
       "\t<tr><th></th><th scope=col>&lt;dbl&gt;</th><th scope=col>&lt;dbl&gt;</th><th scope=col>&lt;dbl&gt;</th><th scope=col>&lt;dbl&gt;</th><th scope=col>&lt;dbl&gt;</th><th scope=col>&lt;dbl&gt;</th><th scope=col>&lt;dbl&gt;</th><th scope=col>&lt;dbl&gt;</th><th scope=col>&lt;dbl&gt;</th><th scope=col>&lt;dbl&gt;</th><th scope=col>&lt;dbl&gt;</th></tr>\n",
       "</thead>\n",
       "<tbody>\n",
       "\t<tr><th scope=row>1</th><td>-3.639</td><td>0.418</td><td>-0.670</td><td>1.779</td><td>-0.168</td><td>1.627</td><td>-0.388</td><td> 0.529</td><td>-0.874</td><td>-0.814</td><td>0</td></tr>\n",
       "\t<tr><th scope=row>2</th><td>-3.327</td><td>0.496</td><td>-0.694</td><td>1.365</td><td>-0.265</td><td>1.933</td><td>-0.363</td><td> 0.510</td><td>-0.621</td><td>-0.488</td><td>1</td></tr>\n",
       "\t<tr><th scope=row>3</th><td>-2.120</td><td>0.894</td><td>-1.576</td><td>0.147</td><td>-0.707</td><td>1.559</td><td>-0.579</td><td> 0.676</td><td>-0.809</td><td>-0.049</td><td>2</td></tr>\n",
       "\t<tr><th scope=row>4</th><td>-2.287</td><td>1.809</td><td>-1.498</td><td>1.012</td><td>-1.053</td><td>1.060</td><td>-0.567</td><td> 0.235</td><td>-0.091</td><td>-0.795</td><td>3</td></tr>\n",
       "\t<tr><th scope=row>5</th><td>-2.598</td><td>1.938</td><td>-0.846</td><td>1.062</td><td>-1.633</td><td>0.764</td><td> 0.394</td><td>-0.150</td><td> 0.277</td><td>-0.396</td><td>4</td></tr>\n",
       "\t<tr><th scope=row>6</th><td>-2.852</td><td>1.914</td><td>-0.755</td><td>0.825</td><td>-1.588</td><td>0.855</td><td> 0.217</td><td>-0.246</td><td> 0.238</td><td>-0.365</td><td>5</td></tr>\n",
       "</tbody>\n",
       "</table>\n"
      ],
      "text/latex": [
       "A data.frame: 6 × 11\n",
       "\\begin{tabular}{r|lllllllllll}\n",
       "  & Feature 0 & Feature 1 & Feature 2 & Feature 3 & Feature 4 & Feature 5 & Feature 6 & Feature 7 & Feature 8 & Feature 9 & Class\\\\\n",
       "  & <dbl> & <dbl> & <dbl> & <dbl> & <dbl> & <dbl> & <dbl> & <dbl> & <dbl> & <dbl> & <dbl>\\\\\n",
       "\\hline\n",
       "\t1 & -3.639 & 0.418 & -0.670 & 1.779 & -0.168 & 1.627 & -0.388 &  0.529 & -0.874 & -0.814 & 0\\\\\n",
       "\t2 & -3.327 & 0.496 & -0.694 & 1.365 & -0.265 & 1.933 & -0.363 &  0.510 & -0.621 & -0.488 & 1\\\\\n",
       "\t3 & -2.120 & 0.894 & -1.576 & 0.147 & -0.707 & 1.559 & -0.579 &  0.676 & -0.809 & -0.049 & 2\\\\\n",
       "\t4 & -2.287 & 1.809 & -1.498 & 1.012 & -1.053 & 1.060 & -0.567 &  0.235 & -0.091 & -0.795 & 3\\\\\n",
       "\t5 & -2.598 & 1.938 & -0.846 & 1.062 & -1.633 & 0.764 &  0.394 & -0.150 &  0.277 & -0.396 & 4\\\\\n",
       "\t6 & -2.852 & 1.914 & -0.755 & 0.825 & -1.588 & 0.855 &  0.217 & -0.246 &  0.238 & -0.365 & 5\\\\\n",
       "\\end{tabular}\n"
      ],
      "text/markdown": [
       "\n",
       "A data.frame: 6 × 11\n",
       "\n",
       "| <!--/--> | Feature 0 &lt;dbl&gt; | Feature 1 &lt;dbl&gt; | Feature 2 &lt;dbl&gt; | Feature 3 &lt;dbl&gt; | Feature 4 &lt;dbl&gt; | Feature 5 &lt;dbl&gt; | Feature 6 &lt;dbl&gt; | Feature 7 &lt;dbl&gt; | Feature 8 &lt;dbl&gt; | Feature 9 &lt;dbl&gt; | Class &lt;dbl&gt; |\n",
       "|---|---|---|---|---|---|---|---|---|---|---|---|\n",
       "| 1 | -3.639 | 0.418 | -0.670 | 1.779 | -0.168 | 1.627 | -0.388 |  0.529 | -0.874 | -0.814 | 0 |\n",
       "| 2 | -3.327 | 0.496 | -0.694 | 1.365 | -0.265 | 1.933 | -0.363 |  0.510 | -0.621 | -0.488 | 1 |\n",
       "| 3 | -2.120 | 0.894 | -1.576 | 0.147 | -0.707 | 1.559 | -0.579 |  0.676 | -0.809 | -0.049 | 2 |\n",
       "| 4 | -2.287 | 1.809 | -1.498 | 1.012 | -1.053 | 1.060 | -0.567 |  0.235 | -0.091 | -0.795 | 3 |\n",
       "| 5 | -2.598 | 1.938 | -0.846 | 1.062 | -1.633 | 0.764 |  0.394 | -0.150 |  0.277 | -0.396 | 4 |\n",
       "| 6 | -2.852 | 1.914 | -0.755 | 0.825 | -1.588 | 0.855 |  0.217 | -0.246 |  0.238 | -0.365 | 5 |\n",
       "\n"
      ],
      "text/plain": [
       "  Feature 0 Feature 1 Feature 2 Feature 3 Feature 4 Feature 5 Feature 6\n",
       "1 -3.639    0.418     -0.670    1.779     -0.168    1.627     -0.388   \n",
       "2 -3.327    0.496     -0.694    1.365     -0.265    1.933     -0.363   \n",
       "3 -2.120    0.894     -1.576    0.147     -0.707    1.559     -0.579   \n",
       "4 -2.287    1.809     -1.498    1.012     -1.053    1.060     -0.567   \n",
       "5 -2.598    1.938     -0.846    1.062     -1.633    0.764      0.394   \n",
       "6 -2.852    1.914     -0.755    0.825     -1.588    0.855      0.217   \n",
       "  Feature 7 Feature 8 Feature 9 Class\n",
       "1  0.529    -0.874    -0.814    0    \n",
       "2  0.510    -0.621    -0.488    1    \n",
       "3  0.676    -0.809    -0.049    2    \n",
       "4  0.235    -0.091    -0.795    3    \n",
       "5 -0.150     0.277    -0.396    4    \n",
       "6 -0.246     0.238    -0.365    5    "
      ]
     },
     "metadata": {},
     "output_type": "display_data"
    }
   ],
   "source": [
    "# 6.2.3\n",
    "class_to_number <- function(name) {\n",
    "  class_nbr1 <- \n",
    "    case_when(\n",
    "        name == 'hid' ~ 0,\n",
    "        name == 'hId' ~ 1,\n",
    "        name == 'hEd' ~ 2,\n",
    "        name == 'hAd' ~ 3,\n",
    "        name == 'hYd' ~ 4,\n",
    "        name == 'had' ~ 5,\n",
    "        name == 'hOd' ~ 6,\n",
    "        name == 'hod' ~ 7,\n",
    "        name == 'hUd' ~ 8,\n",
    "        name == 'hud' ~ 9,\n",
    "        name == 'hed' ~ 10\n",
    "    )\n",
    "  return(class_nbr1)\n",
    "}\n",
    "\n",
    "\n",
    "vowel_s<-mutate(vowel_s,Class= class_to_number(Class))\n",
    "head(vowel_s)\n"
   ]
  },
  {
   "cell_type": "code",
   "execution_count": 79,
   "metadata": {},
   "outputs": [
    {
     "data": {
      "text/plain": [
       "K-means clustering with 2 clusters of sizes 450, 540\n",
       "\n",
       "Cluster means:\n",
       "  Feature 0 Feature 1  Feature 2 Feature 3  Feature 4 Feature 5   Feature 6\n",
       "1 -3.742858  2.582342 -0.3872778 0.3632444 -0.4603978 0.5915578  0.02329556\n",
       "2 -2.754476  1.297948 -0.6081796 0.6423481 -0.1767074 0.6624833 -0.02741481\n",
       "  Feature 7  Feature 8  Feature 9 Class\n",
       "1 0.5206844 -0.2070133 -0.1337222   8.0\n",
       "2 0.1831093 -0.3829444 -0.0193537   2.5\n",
       "\n",
       "Clustering vector:\n",
       "  [1] 2 2 2 2 2 2 1 1 1 1 1 2 2 2 2 2 2 1 1 1 1 1 2 2 2 2 2 2 1 1 1 1 1 2 2 2 2\n",
       " [38] 2 2 1 1 1 1 1 2 2 2 2 2 2 1 1 1 1 1 2 2 2 2 2 2 1 1 1 1 1 2 2 2 2 2 2 1 1\n",
       " [75] 1 1 1 2 2 2 2 2 2 1 1 1 1 1 2 2 2 2 2 2 1 1 1 1 1 2 2 2 2 2 2 1 1 1 1 1 2\n",
       "[112] 2 2 2 2 2 1 1 1 1 1 2 2 2 2 2 2 1 1 1 1 1 2 2 2 2 2 2 1 1 1 1 1 2 2 2 2 2\n",
       "[149] 2 1 1 1 1 1 2 2 2 2 2 2 1 1 1 1 1 2 2 2 2 2 2 1 1 1 1 1 2 2 2 2 2 2 1 1 1\n",
       "[186] 1 1 2 2 2 2 2 2 1 1 1 1 1 2 2 2 2 2 2 1 1 1 1 1 2 2 2 2 2 2 1 1 1 1 1 2 2\n",
       "[223] 2 2 2 2 1 1 1 1 1 2 2 2 2 2 2 1 1 1 1 1 2 2 2 2 2 2 1 1 1 1 1 2 2 2 2 2 2\n",
       "[260] 1 1 1 1 1 2 2 2 2 2 2 1 1 1 1 1 2 2 2 2 2 2 1 1 1 1 1 2 2 2 2 2 2 1 1 1 1\n",
       "[297] 1 2 2 2 2 2 2 1 1 1 1 1 2 2 2 2 2 2 1 1 1 1 1 2 2 2 2 2 2 1 1 1 1 1 2 2 2\n",
       "[334] 2 2 2 1 1 1 1 1 2 2 2 2 2 2 1 1 1 1 1 2 2 2 2 2 2 1 1 1 1 1 2 2 2 2 2 2 1\n",
       "[371] 1 1 1 1 2 2 2 2 2 2 1 1 1 1 1 2 2 2 2 2 2 1 1 1 1 1 2 2 2 2 2 2 1 1 1 1 1\n",
       "[408] 2 2 2 2 2 2 1 1 1 1 1 2 2 2 2 2 2 1 1 1 1 1 2 2 2 2 2 2 1 1 1 1 1 2 2 2 2\n",
       "[445] 2 2 1 1 1 1 1 2 2 2 2 2 2 1 1 1 1 1 2 2 2 2 2 2 1 1 1 1 1 2 2 2 2 2 2 1 1\n",
       "[482] 1 1 1 2 2 2 2 2 2 1 1 1 1 1 2 2 2 2 2 2 1 1 1 1 1 2 2 2 2 2 2 1 1 1 1 1 2\n",
       "[519] 2 2 2 2 2 1 1 1 1 1 2 2 2 2 2 2 1 1 1 1 1 2 2 2 2 2 2 1 1 1 1 1 2 2 2 2 2\n",
       "[556] 2 1 1 1 1 1 2 2 2 2 2 2 1 1 1 1 1 2 2 2 2 2 2 1 1 1 1 1 2 2 2 2 2 2 1 1 1\n",
       "[593] 1 1 2 2 2 2 2 2 1 1 1 1 1 2 2 2 2 2 2 1 1 1 1 1 2 2 2 2 2 2 1 1 1 1 1 2 2\n",
       "[630] 2 2 2 2 1 1 1 1 1 2 2 2 2 2 2 1 1 1 1 1 2 2 2 2 2 2 1 1 1 1 1 2 2 2 2 2 2\n",
       "[667] 1 1 1 1 1 2 2 2 2 2 2 1 1 1 1 1 2 2 2 2 2 2 1 1 1 1 1 2 2 2 2 2 2 1 1 1 1\n",
       "[704] 1 2 2 2 2 2 2 1 1 1 1 1 2 2 2 2 2 2 1 1 1 1 1 2 2 2 2 2 2 1 1 1 1 1 2 2 2\n",
       "[741] 2 2 2 1 1 1 1 1 2 2 2 2 2 2 1 1 1 1 1 2 2 2 2 2 2 1 1 1 1 1 2 2 2 2 2 2 1\n",
       "[778] 1 1 1 1 2 2 2 2 2 2 1 1 1 1 1 2 2 2 2 2 2 1 1 1 1 1 2 2 2 2 2 2 1 1 1 1 1\n",
       "[815] 2 2 2 2 2 2 1 1 1 1 1 2 2 2 2 2 2 1 1 1 1 1 2 2 2 2 2 2 1 1 1 1 1 2 2 2 2\n",
       "[852] 2 2 1 1 1 1 1 2 2 2 2 2 2 1 1 1 1 1 2 2 2 2 2 2 1 1 1 1 1 2 2 2 2 2 2 1 1\n",
       "[889] 1 1 1 2 2 2 2 2 2 1 1 1 1 1 2 2 2 2 2 2 1 1 1 1 1 2 2 2 2 2 2 1 1 1 1 1 2\n",
       "[926] 2 2 2 2 2 1 1 1 1 1 2 2 2 2 2 2 1 1 1 1 1 2 2 2 2 2 2 1 1 1 1 1 2 2 2 2 2\n",
       "[963] 2 1 1 1 1 1 2 2 2 2 2 2 1 1 1 1 1 2 2 2 2 2 2 1 1 1 1 1\n",
       "\n",
       "Within cluster sum of squares by cluster:\n",
       "[1] 2892.214 4046.789\n",
       " (between_SS / total_SS =  54.0 %)\n",
       "\n",
       "Available components:\n",
       "\n",
       " [1] \"cluster\"      \"centers\"      \"totss\"        \"withinss\"     \"tot.withinss\"\n",
       " [6] \"betweenss\"    \"size\"         \"iter\"         \"ifault\"       \"crit\"        \n",
       "[11] \"bestk\"       "
      ]
     },
     "metadata": {},
     "output_type": "display_data"
    }
   ],
   "source": [
    "#  kmeansruns to pick the best k\n",
    "clustering.ch <- kmeansruns(vowel_s[,1:11], krange=1:12, criterion=\"ch\") # Calinski-Harabasz Index \n",
    "clustering.ch"
   ]
  },
  {
   "cell_type": "code",
   "execution_count": 80,
   "metadata": {},
   "outputs": [
    {
     "data": {
      "text/plain": [
       "K-means clustering with 2 clusters of sizes 450, 540\n",
       "\n",
       "Cluster means:\n",
       "  Feature 0 Feature 1  Feature 2 Feature 3  Feature 4 Feature 5   Feature 6\n",
       "1 -3.742858  2.582342 -0.3872778 0.3632444 -0.4603978 0.5915578  0.02329556\n",
       "2 -2.754476  1.297948 -0.6081796 0.6423481 -0.1767074 0.6624833 -0.02741481\n",
       "  Feature 7  Feature 8  Feature 9 Class\n",
       "1 0.5206844 -0.2070133 -0.1337222   8.0\n",
       "2 0.1831093 -0.3829444 -0.0193537   2.5\n",
       "\n",
       "Clustering vector:\n",
       "  [1] 2 2 2 2 2 2 1 1 1 1 1 2 2 2 2 2 2 1 1 1 1 1 2 2 2 2 2 2 1 1 1 1 1 2 2 2 2\n",
       " [38] 2 2 1 1 1 1 1 2 2 2 2 2 2 1 1 1 1 1 2 2 2 2 2 2 1 1 1 1 1 2 2 2 2 2 2 1 1\n",
       " [75] 1 1 1 2 2 2 2 2 2 1 1 1 1 1 2 2 2 2 2 2 1 1 1 1 1 2 2 2 2 2 2 1 1 1 1 1 2\n",
       "[112] 2 2 2 2 2 1 1 1 1 1 2 2 2 2 2 2 1 1 1 1 1 2 2 2 2 2 2 1 1 1 1 1 2 2 2 2 2\n",
       "[149] 2 1 1 1 1 1 2 2 2 2 2 2 1 1 1 1 1 2 2 2 2 2 2 1 1 1 1 1 2 2 2 2 2 2 1 1 1\n",
       "[186] 1 1 2 2 2 2 2 2 1 1 1 1 1 2 2 2 2 2 2 1 1 1 1 1 2 2 2 2 2 2 1 1 1 1 1 2 2\n",
       "[223] 2 2 2 2 1 1 1 1 1 2 2 2 2 2 2 1 1 1 1 1 2 2 2 2 2 2 1 1 1 1 1 2 2 2 2 2 2\n",
       "[260] 1 1 1 1 1 2 2 2 2 2 2 1 1 1 1 1 2 2 2 2 2 2 1 1 1 1 1 2 2 2 2 2 2 1 1 1 1\n",
       "[297] 1 2 2 2 2 2 2 1 1 1 1 1 2 2 2 2 2 2 1 1 1 1 1 2 2 2 2 2 2 1 1 1 1 1 2 2 2\n",
       "[334] 2 2 2 1 1 1 1 1 2 2 2 2 2 2 1 1 1 1 1 2 2 2 2 2 2 1 1 1 1 1 2 2 2 2 2 2 1\n",
       "[371] 1 1 1 1 2 2 2 2 2 2 1 1 1 1 1 2 2 2 2 2 2 1 1 1 1 1 2 2 2 2 2 2 1 1 1 1 1\n",
       "[408] 2 2 2 2 2 2 1 1 1 1 1 2 2 2 2 2 2 1 1 1 1 1 2 2 2 2 2 2 1 1 1 1 1 2 2 2 2\n",
       "[445] 2 2 1 1 1 1 1 2 2 2 2 2 2 1 1 1 1 1 2 2 2 2 2 2 1 1 1 1 1 2 2 2 2 2 2 1 1\n",
       "[482] 1 1 1 2 2 2 2 2 2 1 1 1 1 1 2 2 2 2 2 2 1 1 1 1 1 2 2 2 2 2 2 1 1 1 1 1 2\n",
       "[519] 2 2 2 2 2 1 1 1 1 1 2 2 2 2 2 2 1 1 1 1 1 2 2 2 2 2 2 1 1 1 1 1 2 2 2 2 2\n",
       "[556] 2 1 1 1 1 1 2 2 2 2 2 2 1 1 1 1 1 2 2 2 2 2 2 1 1 1 1 1 2 2 2 2 2 2 1 1 1\n",
       "[593] 1 1 2 2 2 2 2 2 1 1 1 1 1 2 2 2 2 2 2 1 1 1 1 1 2 2 2 2 2 2 1 1 1 1 1 2 2\n",
       "[630] 2 2 2 2 1 1 1 1 1 2 2 2 2 2 2 1 1 1 1 1 2 2 2 2 2 2 1 1 1 1 1 2 2 2 2 2 2\n",
       "[667] 1 1 1 1 1 2 2 2 2 2 2 1 1 1 1 1 2 2 2 2 2 2 1 1 1 1 1 2 2 2 2 2 2 1 1 1 1\n",
       "[704] 1 2 2 2 2 2 2 1 1 1 1 1 2 2 2 2 2 2 1 1 1 1 1 2 2 2 2 2 2 1 1 1 1 1 2 2 2\n",
       "[741] 2 2 2 1 1 1 1 1 2 2 2 2 2 2 1 1 1 1 1 2 2 2 2 2 2 1 1 1 1 1 2 2 2 2 2 2 1\n",
       "[778] 1 1 1 1 2 2 2 2 2 2 1 1 1 1 1 2 2 2 2 2 2 1 1 1 1 1 2 2 2 2 2 2 1 1 1 1 1\n",
       "[815] 2 2 2 2 2 2 1 1 1 1 1 2 2 2 2 2 2 1 1 1 1 1 2 2 2 2 2 2 1 1 1 1 1 2 2 2 2\n",
       "[852] 2 2 1 1 1 1 1 2 2 2 2 2 2 1 1 1 1 1 2 2 2 2 2 2 1 1 1 1 1 2 2 2 2 2 2 1 1\n",
       "[889] 1 1 1 2 2 2 2 2 2 1 1 1 1 1 2 2 2 2 2 2 1 1 1 1 1 2 2 2 2 2 2 1 1 1 1 1 2\n",
       "[926] 2 2 2 2 2 1 1 1 1 1 2 2 2 2 2 2 1 1 1 1 1 2 2 2 2 2 2 1 1 1 1 1 2 2 2 2 2\n",
       "[963] 2 1 1 1 1 1 2 2 2 2 2 2 1 1 1 1 1 2 2 2 2 2 2 1 1 1 1 1\n",
       "\n",
       "Within cluster sum of squares by cluster:\n",
       "[1] 2892.214 4046.789\n",
       " (between_SS / total_SS =  54.0 %)\n",
       "\n",
       "Available components:\n",
       "\n",
       " [1] \"cluster\"      \"centers\"      \"totss\"        \"withinss\"     \"tot.withinss\"\n",
       " [6] \"betweenss\"    \"size\"         \"iter\"         \"ifault\"       \"crit\"        \n",
       "[11] \"bestk\"       "
      ]
     },
     "metadata": {},
     "output_type": "display_data"
    }
   ],
   "source": [
    "clustering.asw <- kmeansruns(vowel_s[,1:11], krange=1:12, criterion=\"asw\") # average silhouette width\n",
    "clustering.asw"
   ]
  },
  {
   "cell_type": "code",
   "execution_count": 82,
   "metadata": {},
   "outputs": [
    {
     "data": {
      "text/plain": [
       "             Length Class  Mode   \n",
       "cluster      990    -none- numeric\n",
       "centers       22    -none- numeric\n",
       "totss          1    -none- numeric\n",
       "withinss       2    -none- numeric\n",
       "tot.withinss   1    -none- numeric\n",
       "betweenss      1    -none- numeric\n",
       "size           2    -none- numeric\n",
       "iter           1    -none- numeric\n",
       "ifault         1    -none- numeric\n",
       "crit          12    -none- numeric\n",
       "bestk          1    -none- numeric"
      ]
     },
     "metadata": {},
     "output_type": "display_data"
    },
    {
     "data": {
      "image/png": "[encoded data removed]",
      "text/plain": [
       "plot without title"
      ]
     },
     "metadata": {
      "image/png": {
       "height": 420,
       "width": 420
      },
      "text/plain": {
       "height": 420,
       "width": 420
      }
     },
     "output_type": "display_data"
    }
   ],
   "source": [
    "critframe <- data.frame(k=1:12, ch=scale(clustering.ch$crit),asw=scale(clustering.asw$crit))\n",
    "critframe <- melt(critframe, id.vars=c(\"k\"),variable.name=\"measure\",value.name=\"score\")\n",
    "# critframe\n",
    "ggplot(critframe, aes(x=k, y=value, color=variable)) +\n",
    "geom_point(aes(shape=variable)) + geom_line(aes(linetype=variable)) +\n",
    "scale_x_continuous(breaks=1:12, labels=1:12)\n",
    "summary(clustering.ch)"
   ]
  },
  {
   "cell_type": "code",
   "execution_count": 91,
   "metadata": {},
   "outputs": [
    {
     "data": {
      "text/html": [
       "<table>\n",
       "<caption>A matrix: 15 × 5 of type dbl</caption>\n",
       "<thead>\n",
       "\t<tr><th></th><th scope=col>CP</th><th scope=col>nsplit</th><th scope=col>rel error</th><th scope=col>xerror</th><th scope=col>xstd</th></tr>\n",
       "</thead>\n",
       "<tbody>\n",
       "\t<tr><th scope=row>1</th><td>0.09555556</td><td> 0</td><td>1.0000000</td><td>1.0444444</td><td>0.007655769</td></tr>\n",
       "\t<tr><th scope=row>2</th><td>0.07666667</td><td> 1</td><td>0.9044444</td><td>0.9522222</td><td>0.011922192</td></tr>\n",
       "\t<tr><th scope=row>3</th><td>0.04777778</td><td> 2</td><td>0.8277778</td><td>0.8977778</td><td>0.013541952</td></tr>\n",
       "\t<tr><th scope=row>4</th><td>0.04666667</td><td> 3</td><td>0.7800000</td><td>0.8077778</td><td>0.015441340</td></tr>\n",
       "\t<tr><th scope=row>5</th><td>0.04222222</td><td> 4</td><td>0.7333333</td><td>0.7611111</td><td>0.016141173</td></tr>\n",
       "\t<tr><th scope=row>6</th><td>0.03055556</td><td> 5</td><td>0.6911111</td><td>0.7366667</td><td>0.016442602</td></tr>\n",
       "\t<tr><th scope=row>7</th><td>0.02333333</td><td> 7</td><td>0.6300000</td><td>0.6788889</td><td>0.016993393</td></tr>\n",
       "\t<tr><th scope=row>8</th><td>0.02000000</td><td>10</td><td>0.5600000</td><td>0.6088889</td><td>0.017379661</td></tr>\n",
       "\t<tr><th scope=row>9</th><td>0.01944444</td><td>11</td><td>0.5400000</td><td>0.5811111</td><td>0.017452160</td></tr>\n",
       "\t<tr><th scope=row>10</th><td>0.01444444</td><td>13</td><td>0.5011111</td><td>0.5455556</td><td>0.017479577</td></tr>\n",
       "\t<tr><th scope=row>11</th><td>0.01333333</td><td>14</td><td>0.4866667</td><td>0.5277778</td><td>0.017465874</td></tr>\n",
       "\t<tr><th scope=row>12</th><td>0.01277778</td><td>16</td><td>0.4600000</td><td>0.5222222</td><td>0.017457839</td></tr>\n",
       "\t<tr><th scope=row>13</th><td>0.01222222</td><td>18</td><td>0.4344444</td><td>0.5144444</td><td>0.017443583</td></tr>\n",
       "\t<tr><th scope=row>14</th><td>0.01111111</td><td>19</td><td>0.4222222</td><td>0.5011111</td><td>0.017410953</td></tr>\n",
       "\t<tr><th scope=row>15</th><td>0.01000000</td><td>23</td><td>0.3777778</td><td>0.4788889</td><td>0.017333427</td></tr>\n",
       "</tbody>\n",
       "</table>\n"
      ],
      "text/latex": [
       "A matrix: 15 × 5 of type dbl\n",
       "\\begin{tabular}{r|lllll}\n",
       "  & CP & nsplit & rel error & xerror & xstd\\\\\n",
       "\\hline\n",
       "\t1 & 0.09555556 &  0 & 1.0000000 & 1.0444444 & 0.007655769\\\\\n",
       "\t2 & 0.07666667 &  1 & 0.9044444 & 0.9522222 & 0.011922192\\\\\n",
       "\t3 & 0.04777778 &  2 & 0.8277778 & 0.8977778 & 0.013541952\\\\\n",
       "\t4 & 0.04666667 &  3 & 0.7800000 & 0.8077778 & 0.015441340\\\\\n",
       "\t5 & 0.04222222 &  4 & 0.7333333 & 0.7611111 & 0.016141173\\\\\n",
       "\t6 & 0.03055556 &  5 & 0.6911111 & 0.7366667 & 0.016442602\\\\\n",
       "\t7 & 0.02333333 &  7 & 0.6300000 & 0.6788889 & 0.016993393\\\\\n",
       "\t8 & 0.02000000 & 10 & 0.5600000 & 0.6088889 & 0.017379661\\\\\n",
       "\t9 & 0.01944444 & 11 & 0.5400000 & 0.5811111 & 0.017452160\\\\\n",
       "\t10 & 0.01444444 & 13 & 0.5011111 & 0.5455556 & 0.017479577\\\\\n",
       "\t11 & 0.01333333 & 14 & 0.4866667 & 0.5277778 & 0.017465874\\\\\n",
       "\t12 & 0.01277778 & 16 & 0.4600000 & 0.5222222 & 0.017457839\\\\\n",
       "\t13 & 0.01222222 & 18 & 0.4344444 & 0.5144444 & 0.017443583\\\\\n",
       "\t14 & 0.01111111 & 19 & 0.4222222 & 0.5011111 & 0.017410953\\\\\n",
       "\t15 & 0.01000000 & 23 & 0.3777778 & 0.4788889 & 0.017333427\\\\\n",
       "\\end{tabular}\n"
      ],
      "text/markdown": [
       "\n",
       "A matrix: 15 × 5 of type dbl\n",
       "\n",
       "| <!--/--> | CP | nsplit | rel error | xerror | xstd |\n",
       "|---|---|---|---|---|---|\n",
       "| 1 | 0.09555556 |  0 | 1.0000000 | 1.0444444 | 0.007655769 |\n",
       "| 2 | 0.07666667 |  1 | 0.9044444 | 0.9522222 | 0.011922192 |\n",
       "| 3 | 0.04777778 |  2 | 0.8277778 | 0.8977778 | 0.013541952 |\n",
       "| 4 | 0.04666667 |  3 | 0.7800000 | 0.8077778 | 0.015441340 |\n",
       "| 5 | 0.04222222 |  4 | 0.7333333 | 0.7611111 | 0.016141173 |\n",
       "| 6 | 0.03055556 |  5 | 0.6911111 | 0.7366667 | 0.016442602 |\n",
       "| 7 | 0.02333333 |  7 | 0.6300000 | 0.6788889 | 0.016993393 |\n",
       "| 8 | 0.02000000 | 10 | 0.5600000 | 0.6088889 | 0.017379661 |\n",
       "| 9 | 0.01944444 | 11 | 0.5400000 | 0.5811111 | 0.017452160 |\n",
       "| 10 | 0.01444444 | 13 | 0.5011111 | 0.5455556 | 0.017479577 |\n",
       "| 11 | 0.01333333 | 14 | 0.4866667 | 0.5277778 | 0.017465874 |\n",
       "| 12 | 0.01277778 | 16 | 0.4600000 | 0.5222222 | 0.017457839 |\n",
       "| 13 | 0.01222222 | 18 | 0.4344444 | 0.5144444 | 0.017443583 |\n",
       "| 14 | 0.01111111 | 19 | 0.4222222 | 0.5011111 | 0.017410953 |\n",
       "| 15 | 0.01000000 | 23 | 0.3777778 | 0.4788889 | 0.017333427 |\n",
       "\n"
      ],
      "text/plain": [
       "   CP         nsplit rel error xerror    xstd       \n",
       "1  0.09555556  0     1.0000000 1.0444444 0.007655769\n",
       "2  0.07666667  1     0.9044444 0.9522222 0.011922192\n",
       "3  0.04777778  2     0.8277778 0.8977778 0.013541952\n",
       "4  0.04666667  3     0.7800000 0.8077778 0.015441340\n",
       "5  0.04222222  4     0.7333333 0.7611111 0.016141173\n",
       "6  0.03055556  5     0.6911111 0.7366667 0.016442602\n",
       "7  0.02333333  7     0.6300000 0.6788889 0.016993393\n",
       "8  0.02000000 10     0.5600000 0.6088889 0.017379661\n",
       "9  0.01944444 11     0.5400000 0.5811111 0.017452160\n",
       "10 0.01444444 13     0.5011111 0.5455556 0.017479577\n",
       "11 0.01333333 14     0.4866667 0.5277778 0.017465874\n",
       "12 0.01277778 16     0.4600000 0.5222222 0.017457839\n",
       "13 0.01222222 18     0.4344444 0.5144444 0.017443583\n",
       "14 0.01111111 19     0.4222222 0.5011111 0.017410953\n",
       "15 0.01000000 23     0.3777778 0.4788889 0.017333427"
      ]
     },
     "metadata": {},
     "output_type": "display_data"
    }
   ],
   "source": [
    "# 6.2.4\n",
    "\n",
    "#Decision Tree Classification\n",
    "library(rpart)\n",
    "set.seed(1234)\n",
    "dtree <- rpart(Class ~ ., data=vowel_s, method=\"class\",\n",
    "                parms=list(split=\"information\"))\n",
    "dtree$cptable"
   ]
  },
  {
   "cell_type": "code",
   "execution_count": null,
   "metadata": {},
   "outputs": [],
   "source": []
  },
  {
   "cell_type": "code",
   "execution_count": null,
   "metadata": {},
   "outputs": [],
   "source": []
  }
 ],
 "metadata": {
  "kernelspec": {
   "display_name": "R",
   "language": "R",
   "name": "ir"
  },
  "language_info": {
   "codemirror_mode": "r",
   "file_extension": ".r",
   "mimetype": "text/x-r-source",
   "name": "R",
   "pygments_lexer": "r",
   "version": "3.6.3"
  }
 },
 "nbformat": 4,
 "nbformat_minor": 4
}
