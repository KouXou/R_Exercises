{
 "cells": [
  {
   "cell_type": "markdown",
   "metadata": {},
   "source": [
    "# Άσκηση 2\n",
    "\n",
    "Αρχικά θα χρησιμοποιήσουμε τις βιβλιοθήκες dplyr και ROCR οπότε τις εισαγάγουμε."
   ]
  },
  {
   "cell_type": "code",
   "execution_count": null,
   "metadata": {},
   "outputs": [],
   "source": [
    "library('dplyr')\n",
    "library('ROCR')"
   ]
  },
  {
   "cell_type": "markdown",
   "metadata": {},
   "source": [
    "Στη συνέχεια δημιουργούμε έναν πίνακα με βάση τα στοιχεία που μας έχουν δωθεί στην εκφώνηση.\n",
    "\n",
    "Ο πίνακας θα περιέχει τις εξής κολώνες: \"Instance\",\"True_Class\",\"PM1\",\"PM2\", όπου\n",
    "\n",
    "* Instance: Αύξοντας αριθμός των γραμμών\n",
    "* True_class: Η πραγματική τιμή\n",
    "* PM1: Η πιθανότητα μετά την εφαρμογή του μοντέλου Μ1\n",
    "* PM2: Η πιθανότητα μετά την εφαρμογή του μοντέλου Μ2"
   ]
  },
  {
   "cell_type": "code",
   "execution_count": 2,
   "metadata": {},
   "outputs": [],
   "source": [
    "res<-matrix(c(1,TRUE,0.73,0.61,\n",
    "            2,TRUE,0.69,0.03,\n",
    "            3,FALSE,0.44,0.68,\n",
    "            4,FALSE,0.55,0.31,\n",
    "            5,TRUE,0.67,0.45,\n",
    "            6,TRUE,0.47,0.09,\n",
    "            7,FALSE,0.08,0.38,\n",
    "            8,FALSE,0.15,0.05,\n",
    "            9,TRUE,0.45,0.01,\n",
    "            10,FALSE,0.35,0.04),ncol=4,byrow=TRUE)\n",
    "colnames(res)<-c(\"Instance\",\"True_Class\",\"PM1\",\"PM2\")"
   ]
  },
  {
   "cell_type": "markdown",
   "metadata": {},
   "source": [
    "Μετατρέπουμε τον πίνακα σε dataframe και προσθέτουμε τις συμπληρωματικές πιθανότητες P(-) = 1 - P(+) στις κολώνες PM11 και PM22.\n",
    "\n",
    "Τα δεδομένα μας φαίνονται παρακάτω\n"
   ]
  },
  {
   "cell_type": "code",
   "execution_count": 3,
   "metadata": {},
   "outputs": [
    {
     "data": {
      "text/html": [
       "<table>\n",
       "<caption>A data.frame: 10 × 6</caption>\n",
       "<thead>\n",
       "\t<tr><th scope=col>Instance</th><th scope=col>True_Class</th><th scope=col>PM1</th><th scope=col>PM2</th><th scope=col>PM11</th><th scope=col>PM22</th></tr>\n",
       "\t<tr><th scope=col>&lt;dbl&gt;</th><th scope=col>&lt;dbl&gt;</th><th scope=col>&lt;dbl&gt;</th><th scope=col>&lt;dbl&gt;</th><th scope=col>&lt;dbl&gt;</th><th scope=col>&lt;dbl&gt;</th></tr>\n",
       "</thead>\n",
       "<tbody>\n",
       "\t<tr><td> 1</td><td>1</td><td>0.73</td><td>0.61</td><td>0.27</td><td>0.39</td></tr>\n",
       "\t<tr><td> 2</td><td>1</td><td>0.69</td><td>0.03</td><td>0.31</td><td>0.97</td></tr>\n",
       "\t<tr><td> 3</td><td>0</td><td>0.44</td><td>0.68</td><td>0.56</td><td>0.32</td></tr>\n",
       "\t<tr><td> 4</td><td>0</td><td>0.55</td><td>0.31</td><td>0.45</td><td>0.69</td></tr>\n",
       "\t<tr><td> 5</td><td>1</td><td>0.67</td><td>0.45</td><td>0.33</td><td>0.55</td></tr>\n",
       "\t<tr><td> 6</td><td>1</td><td>0.47</td><td>0.09</td><td>0.53</td><td>0.91</td></tr>\n",
       "\t<tr><td> 7</td><td>0</td><td>0.08</td><td>0.38</td><td>0.92</td><td>0.62</td></tr>\n",
       "\t<tr><td> 8</td><td>0</td><td>0.15</td><td>0.05</td><td>0.85</td><td>0.95</td></tr>\n",
       "\t<tr><td> 9</td><td>1</td><td>0.45</td><td>0.01</td><td>0.55</td><td>0.99</td></tr>\n",
       "\t<tr><td>10</td><td>0</td><td>0.35</td><td>0.04</td><td>0.65</td><td>0.96</td></tr>\n",
       "</tbody>\n",
       "</table>\n"
      ],
      "text/latex": [
       "A data.frame: 10 × 6\n",
       "\\begin{tabular}{llllll}\n",
       " Instance & True\\_Class & PM1 & PM2 & PM11 & PM22\\\\\n",
       " <dbl> & <dbl> & <dbl> & <dbl> & <dbl> & <dbl>\\\\\n",
       "\\hline\n",
       "\t  1 & 1 & 0.73 & 0.61 & 0.27 & 0.39\\\\\n",
       "\t  2 & 1 & 0.69 & 0.03 & 0.31 & 0.97\\\\\n",
       "\t  3 & 0 & 0.44 & 0.68 & 0.56 & 0.32\\\\\n",
       "\t  4 & 0 & 0.55 & 0.31 & 0.45 & 0.69\\\\\n",
       "\t  5 & 1 & 0.67 & 0.45 & 0.33 & 0.55\\\\\n",
       "\t  6 & 1 & 0.47 & 0.09 & 0.53 & 0.91\\\\\n",
       "\t  7 & 0 & 0.08 & 0.38 & 0.92 & 0.62\\\\\n",
       "\t  8 & 0 & 0.15 & 0.05 & 0.85 & 0.95\\\\\n",
       "\t  9 & 1 & 0.45 & 0.01 & 0.55 & 0.99\\\\\n",
       "\t 10 & 0 & 0.35 & 0.04 & 0.65 & 0.96\\\\\n",
       "\\end{tabular}\n"
      ],
      "text/markdown": [
       "\n",
       "A data.frame: 10 × 6\n",
       "\n",
       "| Instance &lt;dbl&gt; | True_Class &lt;dbl&gt; | PM1 &lt;dbl&gt; | PM2 &lt;dbl&gt; | PM11 &lt;dbl&gt; | PM22 &lt;dbl&gt; |\n",
       "|---|---|---|---|---|---|\n",
       "|  1 | 1 | 0.73 | 0.61 | 0.27 | 0.39 |\n",
       "|  2 | 1 | 0.69 | 0.03 | 0.31 | 0.97 |\n",
       "|  3 | 0 | 0.44 | 0.68 | 0.56 | 0.32 |\n",
       "|  4 | 0 | 0.55 | 0.31 | 0.45 | 0.69 |\n",
       "|  5 | 1 | 0.67 | 0.45 | 0.33 | 0.55 |\n",
       "|  6 | 1 | 0.47 | 0.09 | 0.53 | 0.91 |\n",
       "|  7 | 0 | 0.08 | 0.38 | 0.92 | 0.62 |\n",
       "|  8 | 0 | 0.15 | 0.05 | 0.85 | 0.95 |\n",
       "|  9 | 1 | 0.45 | 0.01 | 0.55 | 0.99 |\n",
       "| 10 | 0 | 0.35 | 0.04 | 0.65 | 0.96 |\n",
       "\n"
      ],
      "text/plain": [
       "   Instance True_Class PM1  PM2  PM11 PM22\n",
       "1   1       1          0.73 0.61 0.27 0.39\n",
       "2   2       1          0.69 0.03 0.31 0.97\n",
       "3   3       0          0.44 0.68 0.56 0.32\n",
       "4   4       0          0.55 0.31 0.45 0.69\n",
       "5   5       1          0.67 0.45 0.33 0.55\n",
       "6   6       1          0.47 0.09 0.53 0.91\n",
       "7   7       0          0.08 0.38 0.92 0.62\n",
       "8   8       0          0.15 0.05 0.85 0.95\n",
       "9   9       1          0.45 0.01 0.55 0.99\n",
       "10 10       0          0.35 0.04 0.65 0.96"
      ]
     },
     "metadata": {},
     "output_type": "display_data"
    }
   ],
   "source": [
    "resdf<-as.data.frame(res)\n",
    "resdf<-mutate(resdf,PM11=1-PM1,PM22=1-PM2)\n",
    "resdf"
   ]
  },
  {
   "cell_type": "markdown",
   "metadata": {},
   "source": [
    "## Ερώτημα i\n",
    "\n",
    "Στο πρώτο ερώτημα για να σχεδιάσουμε την καμπύλη ROC (receiver operating characteristic curve). Η καμπύλη ROC απεικονίζει τη σχέση του ποσοστού των αληθώς θετικών και ψευδώς θετικών αποτελεσμάτων της διαγνωστικής δοκιμασίας, καθώς μεταβάλλεται προοδευτικά προς μία κατεύθυνση το διαχωριστικό όριο αυτής. \n",
    "\n",
    "Για το σχεδιασμό της καμπύλης δημουργούμε για κάθε μοντέλο ένα ROCR prediction object, eval1 και eval2.\n",
    "\n",
    "Στη συνέχεια σχεδιάζουμε την καμπύλη και υπολογίζουμε το AUC (area under the curve) για κάθε μοντέλο."
   ]
  },
  {
   "cell_type": "code",
   "execution_count": 4,
   "metadata": {},
   "outputs": [
    {
     "name": "stdout",
     "output_type": "stream",
     "text": [
      "[1] \"AUC1 :  0.92\"\n",
      "[1] \"AUC2 :  0.4\"\n"
     ]
    },
    {
     "data": {
      "image/png": "[encoded data removed]",
      "text/plain": [
       "plot without title"
      ]
     },
     "metadata": {
      "image/png": {
       "height": 420,
       "width": 420
      },
      "text/plain": {
       "height": 420,
       "width": 420
      }
     },
     "output_type": "display_data"
    }
   ],
   "source": [
    "# i\n",
    "eval1 <-prediction(resdf$PM1, resdf$True_Class)\n",
    "eval2 <-prediction(resdf$PM2, resdf$True_Class)\n",
    "plot(performance(eval1,\"tpr\",\"fpr\"), col=\"green\")\n",
    "plot(performance(eval2,\"tpr\",\"fpr\"),add=TRUE, col=\"blue\")\n",
    "print(paste('AUC1 : ',attributes(performance(eval1,'auc'))$y.values[[1]]))\n",
    "print(paste('AUC2 : ',attributes(performance(eval2,'auc'))$y.values[[1]]))\n",
    "# M1 > M2"
   ]
  },
  {
   "cell_type": "markdown",
   "metadata": {},
   "source": [
    "To AUC1 που ανήκει στο μοντέλο Μ1 είναι μεγαλύτερο του Μ2, οπότε το **Μ1 είναι καλύτερο μοντέλο**\n",
    "\n",
    "Επίσης και από την καμπύλη ROC γνωρίζουμε ότι οι καλοί ταξινομητές βρίσονται πάντα στην πάνω αριστερή γωνία του διαγράμματος."
   ]
  },
  {
   "cell_type": "markdown",
   "metadata": {},
   "source": [
    "## Ερώτημα ii\n",
    "\n",
    "Στο δεύτερο ερώτημα επιλέγουμε σαν κατώφλι (offset) το t=0.5 για το μοντέλο Μ1.\n",
    "\n",
    "Αρχικά ταξινομούμε τα δεδομένα μας με βάση την κολώνα PM1 σε φθίνουσα σειρά ."
   ]
  },
  {
   "cell_type": "code",
   "execution_count": 5,
   "metadata": {},
   "outputs": [
    {
     "data": {
      "text/html": [
       "<table>\n",
       "<caption>A data.frame: 10 × 6</caption>\n",
       "<thead>\n",
       "\t<tr><th></th><th scope=col>Instance</th><th scope=col>True_Class</th><th scope=col>PM1</th><th scope=col>PM2</th><th scope=col>PM11</th><th scope=col>PM22</th></tr>\n",
       "\t<tr><th></th><th scope=col>&lt;dbl&gt;</th><th scope=col>&lt;dbl&gt;</th><th scope=col>&lt;dbl&gt;</th><th scope=col>&lt;dbl&gt;</th><th scope=col>&lt;dbl&gt;</th><th scope=col>&lt;dbl&gt;</th></tr>\n",
       "</thead>\n",
       "<tbody>\n",
       "\t<tr><th scope=row>1</th><td> 1</td><td>1</td><td>0.73</td><td>0.61</td><td>0.27</td><td>0.39</td></tr>\n",
       "\t<tr><th scope=row>2</th><td> 2</td><td>1</td><td>0.69</td><td>0.03</td><td>0.31</td><td>0.97</td></tr>\n",
       "\t<tr><th scope=row>5</th><td> 5</td><td>1</td><td>0.67</td><td>0.45</td><td>0.33</td><td>0.55</td></tr>\n",
       "\t<tr><th scope=row>4</th><td> 4</td><td>0</td><td>0.55</td><td>0.31</td><td>0.45</td><td>0.69</td></tr>\n",
       "\t<tr><th scope=row>6</th><td> 6</td><td>1</td><td>0.47</td><td>0.09</td><td>0.53</td><td>0.91</td></tr>\n",
       "\t<tr><th scope=row>9</th><td> 9</td><td>1</td><td>0.45</td><td>0.01</td><td>0.55</td><td>0.99</td></tr>\n",
       "\t<tr><th scope=row>3</th><td> 3</td><td>0</td><td>0.44</td><td>0.68</td><td>0.56</td><td>0.32</td></tr>\n",
       "\t<tr><th scope=row>10</th><td>10</td><td>0</td><td>0.35</td><td>0.04</td><td>0.65</td><td>0.96</td></tr>\n",
       "\t<tr><th scope=row>8</th><td> 8</td><td>0</td><td>0.15</td><td>0.05</td><td>0.85</td><td>0.95</td></tr>\n",
       "\t<tr><th scope=row>7</th><td> 7</td><td>0</td><td>0.08</td><td>0.38</td><td>0.92</td><td>0.62</td></tr>\n",
       "</tbody>\n",
       "</table>\n"
      ],
      "text/latex": [
       "A data.frame: 10 × 6\n",
       "\\begin{tabular}{r|llllll}\n",
       "  & Instance & True\\_Class & PM1 & PM2 & PM11 & PM22\\\\\n",
       "  & <dbl> & <dbl> & <dbl> & <dbl> & <dbl> & <dbl>\\\\\n",
       "\\hline\n",
       "\t1 &  1 & 1 & 0.73 & 0.61 & 0.27 & 0.39\\\\\n",
       "\t2 &  2 & 1 & 0.69 & 0.03 & 0.31 & 0.97\\\\\n",
       "\t5 &  5 & 1 & 0.67 & 0.45 & 0.33 & 0.55\\\\\n",
       "\t4 &  4 & 0 & 0.55 & 0.31 & 0.45 & 0.69\\\\\n",
       "\t6 &  6 & 1 & 0.47 & 0.09 & 0.53 & 0.91\\\\\n",
       "\t9 &  9 & 1 & 0.45 & 0.01 & 0.55 & 0.99\\\\\n",
       "\t3 &  3 & 0 & 0.44 & 0.68 & 0.56 & 0.32\\\\\n",
       "\t10 & 10 & 0 & 0.35 & 0.04 & 0.65 & 0.96\\\\\n",
       "\t8 &  8 & 0 & 0.15 & 0.05 & 0.85 & 0.95\\\\\n",
       "\t7 &  7 & 0 & 0.08 & 0.38 & 0.92 & 0.62\\\\\n",
       "\\end{tabular}\n"
      ],
      "text/markdown": [
       "\n",
       "A data.frame: 10 × 6\n",
       "\n",
       "| <!--/--> | Instance &lt;dbl&gt; | True_Class &lt;dbl&gt; | PM1 &lt;dbl&gt; | PM2 &lt;dbl&gt; | PM11 &lt;dbl&gt; | PM22 &lt;dbl&gt; |\n",
       "|---|---|---|---|---|---|---|\n",
       "| 1 |  1 | 1 | 0.73 | 0.61 | 0.27 | 0.39 |\n",
       "| 2 |  2 | 1 | 0.69 | 0.03 | 0.31 | 0.97 |\n",
       "| 5 |  5 | 1 | 0.67 | 0.45 | 0.33 | 0.55 |\n",
       "| 4 |  4 | 0 | 0.55 | 0.31 | 0.45 | 0.69 |\n",
       "| 6 |  6 | 1 | 0.47 | 0.09 | 0.53 | 0.91 |\n",
       "| 9 |  9 | 1 | 0.45 | 0.01 | 0.55 | 0.99 |\n",
       "| 3 |  3 | 0 | 0.44 | 0.68 | 0.56 | 0.32 |\n",
       "| 10 | 10 | 0 | 0.35 | 0.04 | 0.65 | 0.96 |\n",
       "| 8 |  8 | 0 | 0.15 | 0.05 | 0.85 | 0.95 |\n",
       "| 7 |  7 | 0 | 0.08 | 0.38 | 0.92 | 0.62 |\n",
       "\n"
      ],
      "text/plain": [
       "   Instance True_Class PM1  PM2  PM11 PM22\n",
       "1   1       1          0.73 0.61 0.27 0.39\n",
       "2   2       1          0.69 0.03 0.31 0.97\n",
       "5   5       1          0.67 0.45 0.33 0.55\n",
       "4   4       0          0.55 0.31 0.45 0.69\n",
       "6   6       1          0.47 0.09 0.53 0.91\n",
       "9   9       1          0.45 0.01 0.55 0.99\n",
       "3   3       0          0.44 0.68 0.56 0.32\n",
       "10 10       0          0.35 0.04 0.65 0.96\n",
       "8   8       0          0.15 0.05 0.85 0.95\n",
       "7   7       0          0.08 0.38 0.92 0.62"
      ]
     },
     "metadata": {},
     "output_type": "display_data"
    }
   ],
   "source": [
    "# ii\n",
    "df1<-resdf[order(-resdf$PM1),]\n",
    "df1"
   ]
  },
  {
   "cell_type": "markdown",
   "metadata": {},
   "source": [
    "Στη συνέχεια φιλτράρουμε τα δεδομένα μας με PM1 > 0.5 και βρίσκουμε τον πίνακα κόστους."
   ]
  },
  {
   "cell_type": "code",
   "execution_count": 6,
   "metadata": {},
   "outputs": [
    {
     "name": "stdout",
     "output_type": "stream",
     "text": [
      "[1] \"Πίνακας Κόστους\"\n"
     ]
    },
    {
     "data": {
      "text/plain": [
       "     prediction\n",
       "truth FALSE TRUE\n",
       "    0     4    1\n",
       "    1     2    3"
      ]
     },
     "metadata": {},
     "output_type": "display_data"
    }
   ],
   "source": [
    "confusion_matrix<-table(truth=resdf$True_Class,prediction=resdf$PM1>0.5)\n",
    "print('Πίνακας Κόστους')\n",
    "confusion_matrix"
   ]
  },
  {
   "cell_type": "code",
   "execution_count": 7,
   "metadata": {},
   "outputs": [],
   "source": [
    "TN<-confusion_matrix[1,1] # TRUE NEGATIVE\n",
    "TP<-confusion_matrix[2,2] # TRUE POSITIVE\n",
    "FN<-confusion_matrix[2,1] # FALSE NEGATIVE\n",
    "FP<-confusion_matrix[1,2] # FALSE POSITIVE"
   ]
  },
  {
   "cell_type": "markdown",
   "metadata": {},
   "source": [
    "Υπολογίζουμε την ακρίβεια, την ανάκληση και το μέτρο F του μοντέλου σε αυτό το επίπεδο κατωφλίου"
   ]
  },
  {
   "cell_type": "code",
   "execution_count": 8,
   "metadata": {},
   "outputs": [
    {
     "name": "stdout",
     "output_type": "stream",
     "text": [
      "[1] \"Ακρίβεια :  0.7\"\n",
      "[1] \"Ανάκληση :  0.6\"\n",
      "[1] \"Μέτρο F :  0.666666666666667\"\n"
     ]
    }
   ],
   "source": [
    "#ACCURACY\n",
    "accuracy<-(TP+TN)/sum(confusion_matrix)\n",
    "\n",
    "#PRECISION\n",
    "precision<-TP/(TP+FP)\n",
    "\n",
    "#RECALL\n",
    "recall<-TP/(TP+FN)\n",
    "\n",
    "# F1 Score\n",
    "f1_score<-(2*precision*recall)/(precision+recall)\n",
    "\n",
    "print(paste('Ακρίβεια : ',accuracy))\n",
    "print(paste('Ανάκληση : ',recall))\n",
    "print(paste('Μέτρο F : ',f1_score))"
   ]
  },
  {
   "cell_type": "markdown",
   "metadata": {},
   "source": [
    "## Ερώτημα iii\n",
    "\n",
    "Στο τρίτο ερώτημα επιλέγουμε σαν κατώφλι (offset) το t=0.5 για το μοντέλο Μ2.\n",
    "\n",
    "Αρχικά ταξινομούμε τα δεδομένα μας με βάση την κολώνα PM2 σε φθίνουσα σειρά ."
   ]
  },
  {
   "cell_type": "code",
   "execution_count": 9,
   "metadata": {},
   "outputs": [
    {
     "data": {
      "text/html": [
       "<table>\n",
       "<caption>A data.frame: 10 × 6</caption>\n",
       "<thead>\n",
       "\t<tr><th></th><th scope=col>Instance</th><th scope=col>True_Class</th><th scope=col>PM1</th><th scope=col>PM2</th><th scope=col>PM11</th><th scope=col>PM22</th></tr>\n",
       "\t<tr><th></th><th scope=col>&lt;dbl&gt;</th><th scope=col>&lt;dbl&gt;</th><th scope=col>&lt;dbl&gt;</th><th scope=col>&lt;dbl&gt;</th><th scope=col>&lt;dbl&gt;</th><th scope=col>&lt;dbl&gt;</th></tr>\n",
       "</thead>\n",
       "<tbody>\n",
       "\t<tr><th scope=row>3</th><td> 3</td><td>0</td><td>0.44</td><td>0.68</td><td>0.56</td><td>0.32</td></tr>\n",
       "\t<tr><th scope=row>1</th><td> 1</td><td>1</td><td>0.73</td><td>0.61</td><td>0.27</td><td>0.39</td></tr>\n",
       "\t<tr><th scope=row>5</th><td> 5</td><td>1</td><td>0.67</td><td>0.45</td><td>0.33</td><td>0.55</td></tr>\n",
       "\t<tr><th scope=row>7</th><td> 7</td><td>0</td><td>0.08</td><td>0.38</td><td>0.92</td><td>0.62</td></tr>\n",
       "\t<tr><th scope=row>4</th><td> 4</td><td>0</td><td>0.55</td><td>0.31</td><td>0.45</td><td>0.69</td></tr>\n",
       "\t<tr><th scope=row>6</th><td> 6</td><td>1</td><td>0.47</td><td>0.09</td><td>0.53</td><td>0.91</td></tr>\n",
       "\t<tr><th scope=row>8</th><td> 8</td><td>0</td><td>0.15</td><td>0.05</td><td>0.85</td><td>0.95</td></tr>\n",
       "\t<tr><th scope=row>10</th><td>10</td><td>0</td><td>0.35</td><td>0.04</td><td>0.65</td><td>0.96</td></tr>\n",
       "\t<tr><th scope=row>2</th><td> 2</td><td>1</td><td>0.69</td><td>0.03</td><td>0.31</td><td>0.97</td></tr>\n",
       "\t<tr><th scope=row>9</th><td> 9</td><td>1</td><td>0.45</td><td>0.01</td><td>0.55</td><td>0.99</td></tr>\n",
       "</tbody>\n",
       "</table>\n"
      ],
      "text/latex": [
       "A data.frame: 10 × 6\n",
       "\\begin{tabular}{r|llllll}\n",
       "  & Instance & True\\_Class & PM1 & PM2 & PM11 & PM22\\\\\n",
       "  & <dbl> & <dbl> & <dbl> & <dbl> & <dbl> & <dbl>\\\\\n",
       "\\hline\n",
       "\t3 &  3 & 0 & 0.44 & 0.68 & 0.56 & 0.32\\\\\n",
       "\t1 &  1 & 1 & 0.73 & 0.61 & 0.27 & 0.39\\\\\n",
       "\t5 &  5 & 1 & 0.67 & 0.45 & 0.33 & 0.55\\\\\n",
       "\t7 &  7 & 0 & 0.08 & 0.38 & 0.92 & 0.62\\\\\n",
       "\t4 &  4 & 0 & 0.55 & 0.31 & 0.45 & 0.69\\\\\n",
       "\t6 &  6 & 1 & 0.47 & 0.09 & 0.53 & 0.91\\\\\n",
       "\t8 &  8 & 0 & 0.15 & 0.05 & 0.85 & 0.95\\\\\n",
       "\t10 & 10 & 0 & 0.35 & 0.04 & 0.65 & 0.96\\\\\n",
       "\t2 &  2 & 1 & 0.69 & 0.03 & 0.31 & 0.97\\\\\n",
       "\t9 &  9 & 1 & 0.45 & 0.01 & 0.55 & 0.99\\\\\n",
       "\\end{tabular}\n"
      ],
      "text/markdown": [
       "\n",
       "A data.frame: 10 × 6\n",
       "\n",
       "| <!--/--> | Instance &lt;dbl&gt; | True_Class &lt;dbl&gt; | PM1 &lt;dbl&gt; | PM2 &lt;dbl&gt; | PM11 &lt;dbl&gt; | PM22 &lt;dbl&gt; |\n",
       "|---|---|---|---|---|---|---|\n",
       "| 3 |  3 | 0 | 0.44 | 0.68 | 0.56 | 0.32 |\n",
       "| 1 |  1 | 1 | 0.73 | 0.61 | 0.27 | 0.39 |\n",
       "| 5 |  5 | 1 | 0.67 | 0.45 | 0.33 | 0.55 |\n",
       "| 7 |  7 | 0 | 0.08 | 0.38 | 0.92 | 0.62 |\n",
       "| 4 |  4 | 0 | 0.55 | 0.31 | 0.45 | 0.69 |\n",
       "| 6 |  6 | 1 | 0.47 | 0.09 | 0.53 | 0.91 |\n",
       "| 8 |  8 | 0 | 0.15 | 0.05 | 0.85 | 0.95 |\n",
       "| 10 | 10 | 0 | 0.35 | 0.04 | 0.65 | 0.96 |\n",
       "| 2 |  2 | 1 | 0.69 | 0.03 | 0.31 | 0.97 |\n",
       "| 9 |  9 | 1 | 0.45 | 0.01 | 0.55 | 0.99 |\n",
       "\n"
      ],
      "text/plain": [
       "   Instance True_Class PM1  PM2  PM11 PM22\n",
       "3   3       0          0.44 0.68 0.56 0.32\n",
       "1   1       1          0.73 0.61 0.27 0.39\n",
       "5   5       1          0.67 0.45 0.33 0.55\n",
       "7   7       0          0.08 0.38 0.92 0.62\n",
       "4   4       0          0.55 0.31 0.45 0.69\n",
       "6   6       1          0.47 0.09 0.53 0.91\n",
       "8   8       0          0.15 0.05 0.85 0.95\n",
       "10 10       0          0.35 0.04 0.65 0.96\n",
       "2   2       1          0.69 0.03 0.31 0.97\n",
       "9   9       1          0.45 0.01 0.55 0.99"
      ]
     },
     "metadata": {},
     "output_type": "display_data"
    }
   ],
   "source": [
    "#iii\n",
    "df2<-resdf[order(-resdf$PM2),]\n",
    "df2"
   ]
  },
  {
   "cell_type": "markdown",
   "metadata": {},
   "source": [
    "Στη συνέχεια φιλτράρουμε τα δεδομένα μας με PM2 > 0.5 και βρίσκουμε τον πίνακα κόστους."
   ]
  },
  {
   "cell_type": "code",
   "execution_count": 10,
   "metadata": {},
   "outputs": [
    {
     "data": {
      "text/plain": [
       "     prediction\n",
       "truth FALSE TRUE\n",
       "    0     4    1\n",
       "    1     4    1"
      ]
     },
     "metadata": {},
     "output_type": "display_data"
    }
   ],
   "source": [
    "confusion_matrix2<-table(truth=resdf$True_Class,prediction=resdf$PM2>0.5)\n",
    "confusion_matrix2"
   ]
  },
  {
   "cell_type": "code",
   "execution_count": 11,
   "metadata": {},
   "outputs": [],
   "source": [
    "TN<-confusion_matrix2[1,1] # TRUE NEGATIVE\n",
    "TP<-confusion_matrix2[2,2] # TRUE POSITIVE\n",
    "FN<-confusion_matrix2[2,1] # FALSE NEGATIVE\n",
    "FP<-confusion_matrix2[1,2] # FALSE POSITIVE"
   ]
  },
  {
   "cell_type": "markdown",
   "metadata": {},
   "source": [
    "Υπολογίζουμε την ακρίβεια, την ανάκληση και το μέτρο F του μοντέλου σε αυτό το επίπεδο κατωφλίου"
   ]
  },
  {
   "cell_type": "code",
   "execution_count": 12,
   "metadata": {},
   "outputs": [
    {
     "name": "stdout",
     "output_type": "stream",
     "text": [
      "[1] \"Ακρίβεια :  0.5\"\n",
      "[1] \"Ανάκληση :  0.2\"\n",
      "[1] \"Μέτρο F :  0.285714285714286\"\n"
     ]
    }
   ],
   "source": [
    "#ACCURACY\n",
    "accuracy<-(TP+TN)/sum(confusion_matrix)\n",
    "\n",
    "#PRECISION\n",
    "precision<-TP/(TP+FP)\n",
    "\n",
    "#RECALL\n",
    "recall<-TP/(TP+FN)\n",
    "\n",
    "# F1 Score\n",
    "f1_score<-(2*precision*recall)/(precision+recall)\n",
    "\n",
    "print(paste('Ακρίβεια : ',accuracy))\n",
    "print(paste('Ανάκληση : ',recall))\n",
    "print(paste('Μέτρο F : ',f1_score))"
   ]
  },
  {
   "cell_type": "markdown",
   "metadata": {},
   "source": [
    "Το **Μοντέλο Μ1** είναι καλύτερο καθώς η τιμή του μέτρου F1 του Μ1 είναι μεγαλύτερη της αντίστοιχης τιμής του M2."
   ]
  },
  {
   "cell_type": "markdown",
   "metadata": {},
   "source": [
    "## Ερώτημα iv\n",
    "\n",
    "Στο τέταρτο ερώτημα επιλέγουμε σαν κατώφλι (offset) το t=0.1 για το μοντέλο Μ1.\n",
    "\n",
    "Επαναλαμβάνουμε την ίδια διαδικασία με πριν."
   ]
  },
  {
   "cell_type": "code",
   "execution_count": 13,
   "metadata": {},
   "outputs": [
    {
     "data": {
      "text/plain": [
       "     prediction\n",
       "truth FALSE TRUE\n",
       "    0     1    4\n",
       "    1     0    5"
      ]
     },
     "metadata": {},
     "output_type": "display_data"
    }
   ],
   "source": [
    "#iv\n",
    "confusion_matrix3<-table(truth=resdf$True_Class,prediction=resdf$PM1>0.1)\n",
    "confusion_matrix3"
   ]
  },
  {
   "cell_type": "code",
   "execution_count": 14,
   "metadata": {},
   "outputs": [
    {
     "name": "stdout",
     "output_type": "stream",
     "text": [
      "[1] \"Ακρίβεια :  0.6\"\n",
      "[1] \"Ανάκληση :  1\"\n",
      "[1] \"Μέτρο F :  0.714285714285714\"\n"
     ]
    }
   ],
   "source": [
    "TN<-confusion_matrix3[1,1] # TRUE NEGATIVE\n",
    "TP<-confusion_matrix3[2,2] # TRUE POSITIVE\n",
    "FN<-confusion_matrix3[2,1] # FALSE NEGATIVE\n",
    "FP<-confusion_matrix3[1,2] # FALSE POSITIVE\n",
    "#ACCURACY\n",
    "accuracy<-(TP+TN)/sum(confusion_matrix)\n",
    "\n",
    "#PRECISION\n",
    "precision<-TP/(TP+FP)\n",
    "\n",
    "#RECALL\n",
    "recall<-TP/(TP+FN)\n",
    "\n",
    "# F1 Score\n",
    "f1_score<-(2*precision*recall)/(precision+recall)\n",
    "\n",
    "print(paste('Ακρίβεια : ',accuracy))\n",
    "print(paste('Ανάκληση : ',recall))\n",
    "print(paste('Μέτρο F : ',f1_score))"
   ]
  },
  {
   "cell_type": "markdown",
   "metadata": {},
   "source": [
    "Προτιμάμε το κατώφλι t=0.5 γιατί η ακρίβεια είναι μεγαλύτερη.\n",
    "\n",
    "Η καμπύλη ROC δείχνει κάθε δυνατό ταξινομητή που μπορούμε να πάρουμε από τη χρήση διαφορετικών κατωφλίων για το ίδιο μοντέλο. \n",
    "\n",
    "Τα αποτελέσματα είναι συνεπή με την καμπύλη ROC."
   ]
  }
 ],
 "metadata": {
  "kernelspec": {
   "display_name": "R",
   "language": "R",
   "name": "ir"
  },
  "language_info": {
   "codemirror_mode": "r",
   "file_extension": ".r",
   "mimetype": "text/x-r-source",
   "name": "R",
   "pygments_lexer": "r",
   "version": "3.6.3"
  }
 },
 "nbformat": 4,
 "nbformat_minor": 2
}
